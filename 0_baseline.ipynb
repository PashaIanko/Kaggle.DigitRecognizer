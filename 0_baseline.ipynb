{
  "nbformat": 4,
  "nbformat_minor": 0,
  "metadata": {
    "colab": {
      "provenance": [],
      "toc_visible": true,
      "authorship_tag": "ABX9TyPt2aDWI7jctTOgjNVx/vDm",
      "include_colab_link": true
    },
    "kernelspec": {
      "name": "python3",
      "display_name": "Python 3"
    },
    "language_info": {
      "name": "python"
    }
  },
  "cells": [
    {
      "cell_type": "markdown",
      "metadata": {
        "id": "view-in-github",
        "colab_type": "text"
      },
      "source": [
        "<a href=\"https://colab.research.google.com/github/PashaIanko/Kaggle.DigitRecognizer/blob/main/0_baseline.ipynb\" target=\"_parent\"><img src=\"https://colab.research.google.com/assets/colab-badge.svg\" alt=\"Open In Colab\"/></a>"
      ]
    },
    {
      "cell_type": "markdown",
      "source": [
        "- Stretch tasks:\n",
        "    - Create a baseline with Batch Normalization, without looking on the Internet\n",
        "    - Create a baseline with Dropout, without looking on the Internet\n",
        "    - Implement classic architectures (AlexNet, VGG), without looking\n",
        "    - Implement model checkpoint callbacks (save every epoch)\n",
        "    - Write NN with functional API, not looking on the Internet\n",
        "    - Enwrap your FFNN for grid search CV and find the best architecture\n",
        "    - Stretch pants approach\n",
        "    - Correct initialization strategies for different activation functions\n",
        "    - Use functools.partial in building sequential model\n",
        "    - Transfer learning"
      ],
      "metadata": {
        "id": "Gdtn5qTvAIcF"
      }
    },
    {
      "cell_type": "markdown",
      "source": [
        "# Imports"
      ],
      "metadata": {
        "id": "TxN9SMB7hcwA"
      }
    },
    {
      "cell_type": "code",
      "execution_count": 1,
      "metadata": {
        "id": "ZeUETWFYgwHl"
      },
      "outputs": [],
      "source": [
        "from google.colab import drive\n",
        "from tensorflow.keras.callbacks import EarlyStopping\n",
        "import pandas as pd\n",
        "import tensorflow.keras.layers as layers\n",
        "from tensorflow.keras.models import Sequential"
      ]
    },
    {
      "cell_type": "markdown",
      "source": [
        "## Pep 8 standard"
      ],
      "metadata": {
        "id": "D0jxabrMhqrv"
      }
    },
    {
      "cell_type": "code",
      "source": [
        "%%capture \n",
        "try: \n",
        "    from nbpep8.nbpep8 import pep8 \n",
        "except ModuleNotFoundError: \n",
        "    !pip install pycodestyle \n",
        "    !pip install --index-url https://test.pypi.org/simple/ nbpep8\n",
        "from nbpep8.nbpep8 import pep8"
      ],
      "metadata": {
        "id": "sD9C_xllhfNf"
      },
      "execution_count": 2,
      "outputs": []
    },
    {
      "cell_type": "markdown",
      "source": [
        "## Custom packages"
      ],
      "metadata": {
        "id": "GkavcyFWhtC6"
      }
    },
    {
      "cell_type": "code",
      "source": [
        "%%capture\n",
        "def download_files(url_dict):\n",
        "    for file, url in url_dict.items():\n",
        "        print(f'Downloading {file}')\n",
        "        !wget -O {file} {url} {file}\n",
        "\n",
        "git_download_path = \\\n",
        "'https://raw.githubusercontent.com/PashaIanko/Sklearn-Utils/main/'\n",
        "\n",
        "files = [\n",
        "    'path_manager.py',\n",
        "    'sklearn_transformers.py',\n",
        "    'sklearn_utils.py'\n",
        "]\n",
        "\n",
        "url_dict = {file: git_download_path + file for file in files}\n",
        "download_files(url_dict)"
      ],
      "metadata": {
        "id": "LbIDWbp3hmDO"
      },
      "execution_count": 3,
      "outputs": []
    },
    {
      "cell_type": "code",
      "source": [
        "import importlib\n",
        "import path_manager\n",
        "import sklearn_utils\n",
        "\n",
        "def reload_all(modules_list_):\n",
        "    for module in modules_list_:\n",
        "        importlib.reload(module)\n",
        "\n",
        "reload_all(\n",
        "    [\n",
        "        path_manager,\n",
        "        sklearn_utils\n",
        "        # other modules\n",
        "    ]\n",
        ")\n",
        "\n",
        "from path_manager import PathManager\n",
        "from sklearn_utils import (\n",
        "    nan_statistics,\n",
        "    visualize_datasets_distributions\n",
        ")"
      ],
      "metadata": {
        "id": "ClNicaVaiOGS"
      },
      "execution_count": 4,
      "outputs": []
    },
    {
      "cell_type": "markdown",
      "source": [
        "# Setup paths"
      ],
      "metadata": {
        "id": "w0UTyiG2iRVq"
      }
    },
    {
      "cell_type": "code",
      "source": [
        "drive.mount('/content/gdrive', force_remount=True)  # force_remount=True\n",
        "gdrive_path = '/content/gdrive/MyDrive/'\n",
        "\n",
        "PREPROC_TRIAL = 'baseline'\n",
        "MODELS_TRIAL = 'baseline'\n",
        "COMPETITION_PATH = gdrive_path + 'ML/Competitions/3.DigitRecognizer/'\n",
        "\n",
        "manager = PathManager(\n",
        "    competition_path=COMPETITION_PATH,\n",
        "    preprocessing_trial=PREPROC_TRIAL,\n",
        "    models_trial=MODELS_TRIAL\n",
        ")\n",
        "manager.setup_paths()"
      ],
      "metadata": {
        "colab": {
          "base_uri": "https://localhost:8080/"
        },
        "id": "3KrZx3HEiR-2",
        "outputId": "14e31222-80b7-40b6-b279-079a951e776c"
      },
      "execution_count": 10,
      "outputs": [
        {
          "output_type": "stream",
          "name": "stdout",
          "text": [
            "Mounted at /content/gdrive\n"
          ]
        }
      ]
    },
    {
      "cell_type": "markdown",
      "source": [
        "# Download the data"
      ],
      "metadata": {
        "id": "UwDgQe3XkYl5"
      }
    },
    {
      "cell_type": "code",
      "source": [
        "df_train = pd.read_csv(manager.train_path)\n",
        "df_train.head()"
      ],
      "metadata": {
        "colab": {
          "base_uri": "https://localhost:8080/",
          "height": 299
        },
        "id": "5vWTxwTIkZkk",
        "outputId": "a31a1211-1157-425d-b7ce-8b355f6f93b5"
      },
      "execution_count": 82,
      "outputs": [
        {
          "output_type": "execute_result",
          "data": {
            "text/plain": [
              "   label  pixel0  pixel1  pixel2  pixel3  pixel4  pixel5  pixel6  pixel7  \\\n",
              "0      1       0       0       0       0       0       0       0       0   \n",
              "1      0       0       0       0       0       0       0       0       0   \n",
              "2      1       0       0       0       0       0       0       0       0   \n",
              "3      4       0       0       0       0       0       0       0       0   \n",
              "4      0       0       0       0       0       0       0       0       0   \n",
              "\n",
              "   pixel8  ...  pixel774  pixel775  pixel776  pixel777  pixel778  pixel779  \\\n",
              "0       0  ...         0         0         0         0         0         0   \n",
              "1       0  ...         0         0         0         0         0         0   \n",
              "2       0  ...         0         0         0         0         0         0   \n",
              "3       0  ...         0         0         0         0         0         0   \n",
              "4       0  ...         0         0         0         0         0         0   \n",
              "\n",
              "   pixel780  pixel781  pixel782  pixel783  \n",
              "0         0         0         0         0  \n",
              "1         0         0         0         0  \n",
              "2         0         0         0         0  \n",
              "3         0         0         0         0  \n",
              "4         0         0         0         0  \n",
              "\n",
              "[5 rows x 785 columns]"
            ],
            "text/html": [
              "\n",
              "  <div id=\"df-a5c5689c-9166-42eb-bc71-7f188e6e529c\">\n",
              "    <div class=\"colab-df-container\">\n",
              "      <div>\n",
              "<style scoped>\n",
              "    .dataframe tbody tr th:only-of-type {\n",
              "        vertical-align: middle;\n",
              "    }\n",
              "\n",
              "    .dataframe tbody tr th {\n",
              "        vertical-align: top;\n",
              "    }\n",
              "\n",
              "    .dataframe thead th {\n",
              "        text-align: right;\n",
              "    }\n",
              "</style>\n",
              "<table border=\"1\" class=\"dataframe\">\n",
              "  <thead>\n",
              "    <tr style=\"text-align: right;\">\n",
              "      <th></th>\n",
              "      <th>label</th>\n",
              "      <th>pixel0</th>\n",
              "      <th>pixel1</th>\n",
              "      <th>pixel2</th>\n",
              "      <th>pixel3</th>\n",
              "      <th>pixel4</th>\n",
              "      <th>pixel5</th>\n",
              "      <th>pixel6</th>\n",
              "      <th>pixel7</th>\n",
              "      <th>pixel8</th>\n",
              "      <th>...</th>\n",
              "      <th>pixel774</th>\n",
              "      <th>pixel775</th>\n",
              "      <th>pixel776</th>\n",
              "      <th>pixel777</th>\n",
              "      <th>pixel778</th>\n",
              "      <th>pixel779</th>\n",
              "      <th>pixel780</th>\n",
              "      <th>pixel781</th>\n",
              "      <th>pixel782</th>\n",
              "      <th>pixel783</th>\n",
              "    </tr>\n",
              "  </thead>\n",
              "  <tbody>\n",
              "    <tr>\n",
              "      <th>0</th>\n",
              "      <td>1</td>\n",
              "      <td>0</td>\n",
              "      <td>0</td>\n",
              "      <td>0</td>\n",
              "      <td>0</td>\n",
              "      <td>0</td>\n",
              "      <td>0</td>\n",
              "      <td>0</td>\n",
              "      <td>0</td>\n",
              "      <td>0</td>\n",
              "      <td>...</td>\n",
              "      <td>0</td>\n",
              "      <td>0</td>\n",
              "      <td>0</td>\n",
              "      <td>0</td>\n",
              "      <td>0</td>\n",
              "      <td>0</td>\n",
              "      <td>0</td>\n",
              "      <td>0</td>\n",
              "      <td>0</td>\n",
              "      <td>0</td>\n",
              "    </tr>\n",
              "    <tr>\n",
              "      <th>1</th>\n",
              "      <td>0</td>\n",
              "      <td>0</td>\n",
              "      <td>0</td>\n",
              "      <td>0</td>\n",
              "      <td>0</td>\n",
              "      <td>0</td>\n",
              "      <td>0</td>\n",
              "      <td>0</td>\n",
              "      <td>0</td>\n",
              "      <td>0</td>\n",
              "      <td>...</td>\n",
              "      <td>0</td>\n",
              "      <td>0</td>\n",
              "      <td>0</td>\n",
              "      <td>0</td>\n",
              "      <td>0</td>\n",
              "      <td>0</td>\n",
              "      <td>0</td>\n",
              "      <td>0</td>\n",
              "      <td>0</td>\n",
              "      <td>0</td>\n",
              "    </tr>\n",
              "    <tr>\n",
              "      <th>2</th>\n",
              "      <td>1</td>\n",
              "      <td>0</td>\n",
              "      <td>0</td>\n",
              "      <td>0</td>\n",
              "      <td>0</td>\n",
              "      <td>0</td>\n",
              "      <td>0</td>\n",
              "      <td>0</td>\n",
              "      <td>0</td>\n",
              "      <td>0</td>\n",
              "      <td>...</td>\n",
              "      <td>0</td>\n",
              "      <td>0</td>\n",
              "      <td>0</td>\n",
              "      <td>0</td>\n",
              "      <td>0</td>\n",
              "      <td>0</td>\n",
              "      <td>0</td>\n",
              "      <td>0</td>\n",
              "      <td>0</td>\n",
              "      <td>0</td>\n",
              "    </tr>\n",
              "    <tr>\n",
              "      <th>3</th>\n",
              "      <td>4</td>\n",
              "      <td>0</td>\n",
              "      <td>0</td>\n",
              "      <td>0</td>\n",
              "      <td>0</td>\n",
              "      <td>0</td>\n",
              "      <td>0</td>\n",
              "      <td>0</td>\n",
              "      <td>0</td>\n",
              "      <td>0</td>\n",
              "      <td>...</td>\n",
              "      <td>0</td>\n",
              "      <td>0</td>\n",
              "      <td>0</td>\n",
              "      <td>0</td>\n",
              "      <td>0</td>\n",
              "      <td>0</td>\n",
              "      <td>0</td>\n",
              "      <td>0</td>\n",
              "      <td>0</td>\n",
              "      <td>0</td>\n",
              "    </tr>\n",
              "    <tr>\n",
              "      <th>4</th>\n",
              "      <td>0</td>\n",
              "      <td>0</td>\n",
              "      <td>0</td>\n",
              "      <td>0</td>\n",
              "      <td>0</td>\n",
              "      <td>0</td>\n",
              "      <td>0</td>\n",
              "      <td>0</td>\n",
              "      <td>0</td>\n",
              "      <td>0</td>\n",
              "      <td>...</td>\n",
              "      <td>0</td>\n",
              "      <td>0</td>\n",
              "      <td>0</td>\n",
              "      <td>0</td>\n",
              "      <td>0</td>\n",
              "      <td>0</td>\n",
              "      <td>0</td>\n",
              "      <td>0</td>\n",
              "      <td>0</td>\n",
              "      <td>0</td>\n",
              "    </tr>\n",
              "  </tbody>\n",
              "</table>\n",
              "<p>5 rows × 785 columns</p>\n",
              "</div>\n",
              "      <button class=\"colab-df-convert\" onclick=\"convertToInteractive('df-a5c5689c-9166-42eb-bc71-7f188e6e529c')\"\n",
              "              title=\"Convert this dataframe to an interactive table.\"\n",
              "              style=\"display:none;\">\n",
              "        \n",
              "  <svg xmlns=\"http://www.w3.org/2000/svg\" height=\"24px\"viewBox=\"0 0 24 24\"\n",
              "       width=\"24px\">\n",
              "    <path d=\"M0 0h24v24H0V0z\" fill=\"none\"/>\n",
              "    <path d=\"M18.56 5.44l.94 2.06.94-2.06 2.06-.94-2.06-.94-.94-2.06-.94 2.06-2.06.94zm-11 1L8.5 8.5l.94-2.06 2.06-.94-2.06-.94L8.5 2.5l-.94 2.06-2.06.94zm10 10l.94 2.06.94-2.06 2.06-.94-2.06-.94-.94-2.06-.94 2.06-2.06.94z\"/><path d=\"M17.41 7.96l-1.37-1.37c-.4-.4-.92-.59-1.43-.59-.52 0-1.04.2-1.43.59L10.3 9.45l-7.72 7.72c-.78.78-.78 2.05 0 2.83L4 21.41c.39.39.9.59 1.41.59.51 0 1.02-.2 1.41-.59l7.78-7.78 2.81-2.81c.8-.78.8-2.07 0-2.86zM5.41 20L4 18.59l7.72-7.72 1.47 1.35L5.41 20z\"/>\n",
              "  </svg>\n",
              "      </button>\n",
              "      \n",
              "  <style>\n",
              "    .colab-df-container {\n",
              "      display:flex;\n",
              "      flex-wrap:wrap;\n",
              "      gap: 12px;\n",
              "    }\n",
              "\n",
              "    .colab-df-convert {\n",
              "      background-color: #E8F0FE;\n",
              "      border: none;\n",
              "      border-radius: 50%;\n",
              "      cursor: pointer;\n",
              "      display: none;\n",
              "      fill: #1967D2;\n",
              "      height: 32px;\n",
              "      padding: 0 0 0 0;\n",
              "      width: 32px;\n",
              "    }\n",
              "\n",
              "    .colab-df-convert:hover {\n",
              "      background-color: #E2EBFA;\n",
              "      box-shadow: 0px 1px 2px rgba(60, 64, 67, 0.3), 0px 1px 3px 1px rgba(60, 64, 67, 0.15);\n",
              "      fill: #174EA6;\n",
              "    }\n",
              "\n",
              "    [theme=dark] .colab-df-convert {\n",
              "      background-color: #3B4455;\n",
              "      fill: #D2E3FC;\n",
              "    }\n",
              "\n",
              "    [theme=dark] .colab-df-convert:hover {\n",
              "      background-color: #434B5C;\n",
              "      box-shadow: 0px 1px 3px 1px rgba(0, 0, 0, 0.15);\n",
              "      filter: drop-shadow(0px 1px 2px rgba(0, 0, 0, 0.3));\n",
              "      fill: #FFFFFF;\n",
              "    }\n",
              "  </style>\n",
              "\n",
              "      <script>\n",
              "        const buttonEl =\n",
              "          document.querySelector('#df-a5c5689c-9166-42eb-bc71-7f188e6e529c button.colab-df-convert');\n",
              "        buttonEl.style.display =\n",
              "          google.colab.kernel.accessAllowed ? 'block' : 'none';\n",
              "\n",
              "        async function convertToInteractive(key) {\n",
              "          const element = document.querySelector('#df-a5c5689c-9166-42eb-bc71-7f188e6e529c');\n",
              "          const dataTable =\n",
              "            await google.colab.kernel.invokeFunction('convertToInteractive',\n",
              "                                                     [key], {});\n",
              "          if (!dataTable) return;\n",
              "\n",
              "          const docLinkHtml = 'Like what you see? Visit the ' +\n",
              "            '<a target=\"_blank\" href=https://colab.research.google.com/notebooks/data_table.ipynb>data table notebook</a>'\n",
              "            + ' to learn more about interactive tables.';\n",
              "          element.innerHTML = '';\n",
              "          dataTable['output_type'] = 'display_data';\n",
              "          await google.colab.output.renderOutput(dataTable, element);\n",
              "          const docLink = document.createElement('div');\n",
              "          docLink.innerHTML = docLinkHtml;\n",
              "          element.appendChild(docLink);\n",
              "        }\n",
              "      </script>\n",
              "    </div>\n",
              "  </div>\n",
              "  "
            ]
          },
          "metadata": {},
          "execution_count": 82
        }
      ]
    },
    {
      "cell_type": "code",
      "source": [
        "df_test = pd.read_csv(manager.test_path)\n",
        "df_test.head()"
      ],
      "metadata": {
        "colab": {
          "base_uri": "https://localhost:8080/",
          "height": 299
        },
        "id": "WbId0KikkrqA",
        "outputId": "14eef868-68ba-47bc-f3f8-bfd758b0d613"
      },
      "execution_count": 83,
      "outputs": [
        {
          "output_type": "execute_result",
          "data": {
            "text/plain": [
              "   pixel0  pixel1  pixel2  pixel3  pixel4  pixel5  pixel6  pixel7  pixel8  \\\n",
              "0       0       0       0       0       0       0       0       0       0   \n",
              "1       0       0       0       0       0       0       0       0       0   \n",
              "2       0       0       0       0       0       0       0       0       0   \n",
              "3       0       0       0       0       0       0       0       0       0   \n",
              "4       0       0       0       0       0       0       0       0       0   \n",
              "\n",
              "   pixel9  ...  pixel774  pixel775  pixel776  pixel777  pixel778  pixel779  \\\n",
              "0       0  ...         0         0         0         0         0         0   \n",
              "1       0  ...         0         0         0         0         0         0   \n",
              "2       0  ...         0         0         0         0         0         0   \n",
              "3       0  ...         0         0         0         0         0         0   \n",
              "4       0  ...         0         0         0         0         0         0   \n",
              "\n",
              "   pixel780  pixel781  pixel782  pixel783  \n",
              "0         0         0         0         0  \n",
              "1         0         0         0         0  \n",
              "2         0         0         0         0  \n",
              "3         0         0         0         0  \n",
              "4         0         0         0         0  \n",
              "\n",
              "[5 rows x 784 columns]"
            ],
            "text/html": [
              "\n",
              "  <div id=\"df-3f4c0574-78a7-4e3e-8b8b-6e32218ed894\">\n",
              "    <div class=\"colab-df-container\">\n",
              "      <div>\n",
              "<style scoped>\n",
              "    .dataframe tbody tr th:only-of-type {\n",
              "        vertical-align: middle;\n",
              "    }\n",
              "\n",
              "    .dataframe tbody tr th {\n",
              "        vertical-align: top;\n",
              "    }\n",
              "\n",
              "    .dataframe thead th {\n",
              "        text-align: right;\n",
              "    }\n",
              "</style>\n",
              "<table border=\"1\" class=\"dataframe\">\n",
              "  <thead>\n",
              "    <tr style=\"text-align: right;\">\n",
              "      <th></th>\n",
              "      <th>pixel0</th>\n",
              "      <th>pixel1</th>\n",
              "      <th>pixel2</th>\n",
              "      <th>pixel3</th>\n",
              "      <th>pixel4</th>\n",
              "      <th>pixel5</th>\n",
              "      <th>pixel6</th>\n",
              "      <th>pixel7</th>\n",
              "      <th>pixel8</th>\n",
              "      <th>pixel9</th>\n",
              "      <th>...</th>\n",
              "      <th>pixel774</th>\n",
              "      <th>pixel775</th>\n",
              "      <th>pixel776</th>\n",
              "      <th>pixel777</th>\n",
              "      <th>pixel778</th>\n",
              "      <th>pixel779</th>\n",
              "      <th>pixel780</th>\n",
              "      <th>pixel781</th>\n",
              "      <th>pixel782</th>\n",
              "      <th>pixel783</th>\n",
              "    </tr>\n",
              "  </thead>\n",
              "  <tbody>\n",
              "    <tr>\n",
              "      <th>0</th>\n",
              "      <td>0</td>\n",
              "      <td>0</td>\n",
              "      <td>0</td>\n",
              "      <td>0</td>\n",
              "      <td>0</td>\n",
              "      <td>0</td>\n",
              "      <td>0</td>\n",
              "      <td>0</td>\n",
              "      <td>0</td>\n",
              "      <td>0</td>\n",
              "      <td>...</td>\n",
              "      <td>0</td>\n",
              "      <td>0</td>\n",
              "      <td>0</td>\n",
              "      <td>0</td>\n",
              "      <td>0</td>\n",
              "      <td>0</td>\n",
              "      <td>0</td>\n",
              "      <td>0</td>\n",
              "      <td>0</td>\n",
              "      <td>0</td>\n",
              "    </tr>\n",
              "    <tr>\n",
              "      <th>1</th>\n",
              "      <td>0</td>\n",
              "      <td>0</td>\n",
              "      <td>0</td>\n",
              "      <td>0</td>\n",
              "      <td>0</td>\n",
              "      <td>0</td>\n",
              "      <td>0</td>\n",
              "      <td>0</td>\n",
              "      <td>0</td>\n",
              "      <td>0</td>\n",
              "      <td>...</td>\n",
              "      <td>0</td>\n",
              "      <td>0</td>\n",
              "      <td>0</td>\n",
              "      <td>0</td>\n",
              "      <td>0</td>\n",
              "      <td>0</td>\n",
              "      <td>0</td>\n",
              "      <td>0</td>\n",
              "      <td>0</td>\n",
              "      <td>0</td>\n",
              "    </tr>\n",
              "    <tr>\n",
              "      <th>2</th>\n",
              "      <td>0</td>\n",
              "      <td>0</td>\n",
              "      <td>0</td>\n",
              "      <td>0</td>\n",
              "      <td>0</td>\n",
              "      <td>0</td>\n",
              "      <td>0</td>\n",
              "      <td>0</td>\n",
              "      <td>0</td>\n",
              "      <td>0</td>\n",
              "      <td>...</td>\n",
              "      <td>0</td>\n",
              "      <td>0</td>\n",
              "      <td>0</td>\n",
              "      <td>0</td>\n",
              "      <td>0</td>\n",
              "      <td>0</td>\n",
              "      <td>0</td>\n",
              "      <td>0</td>\n",
              "      <td>0</td>\n",
              "      <td>0</td>\n",
              "    </tr>\n",
              "    <tr>\n",
              "      <th>3</th>\n",
              "      <td>0</td>\n",
              "      <td>0</td>\n",
              "      <td>0</td>\n",
              "      <td>0</td>\n",
              "      <td>0</td>\n",
              "      <td>0</td>\n",
              "      <td>0</td>\n",
              "      <td>0</td>\n",
              "      <td>0</td>\n",
              "      <td>0</td>\n",
              "      <td>...</td>\n",
              "      <td>0</td>\n",
              "      <td>0</td>\n",
              "      <td>0</td>\n",
              "      <td>0</td>\n",
              "      <td>0</td>\n",
              "      <td>0</td>\n",
              "      <td>0</td>\n",
              "      <td>0</td>\n",
              "      <td>0</td>\n",
              "      <td>0</td>\n",
              "    </tr>\n",
              "    <tr>\n",
              "      <th>4</th>\n",
              "      <td>0</td>\n",
              "      <td>0</td>\n",
              "      <td>0</td>\n",
              "      <td>0</td>\n",
              "      <td>0</td>\n",
              "      <td>0</td>\n",
              "      <td>0</td>\n",
              "      <td>0</td>\n",
              "      <td>0</td>\n",
              "      <td>0</td>\n",
              "      <td>...</td>\n",
              "      <td>0</td>\n",
              "      <td>0</td>\n",
              "      <td>0</td>\n",
              "      <td>0</td>\n",
              "      <td>0</td>\n",
              "      <td>0</td>\n",
              "      <td>0</td>\n",
              "      <td>0</td>\n",
              "      <td>0</td>\n",
              "      <td>0</td>\n",
              "    </tr>\n",
              "  </tbody>\n",
              "</table>\n",
              "<p>5 rows × 784 columns</p>\n",
              "</div>\n",
              "      <button class=\"colab-df-convert\" onclick=\"convertToInteractive('df-3f4c0574-78a7-4e3e-8b8b-6e32218ed894')\"\n",
              "              title=\"Convert this dataframe to an interactive table.\"\n",
              "              style=\"display:none;\">\n",
              "        \n",
              "  <svg xmlns=\"http://www.w3.org/2000/svg\" height=\"24px\"viewBox=\"0 0 24 24\"\n",
              "       width=\"24px\">\n",
              "    <path d=\"M0 0h24v24H0V0z\" fill=\"none\"/>\n",
              "    <path d=\"M18.56 5.44l.94 2.06.94-2.06 2.06-.94-2.06-.94-.94-2.06-.94 2.06-2.06.94zm-11 1L8.5 8.5l.94-2.06 2.06-.94-2.06-.94L8.5 2.5l-.94 2.06-2.06.94zm10 10l.94 2.06.94-2.06 2.06-.94-2.06-.94-.94-2.06-.94 2.06-2.06.94z\"/><path d=\"M17.41 7.96l-1.37-1.37c-.4-.4-.92-.59-1.43-.59-.52 0-1.04.2-1.43.59L10.3 9.45l-7.72 7.72c-.78.78-.78 2.05 0 2.83L4 21.41c.39.39.9.59 1.41.59.51 0 1.02-.2 1.41-.59l7.78-7.78 2.81-2.81c.8-.78.8-2.07 0-2.86zM5.41 20L4 18.59l7.72-7.72 1.47 1.35L5.41 20z\"/>\n",
              "  </svg>\n",
              "      </button>\n",
              "      \n",
              "  <style>\n",
              "    .colab-df-container {\n",
              "      display:flex;\n",
              "      flex-wrap:wrap;\n",
              "      gap: 12px;\n",
              "    }\n",
              "\n",
              "    .colab-df-convert {\n",
              "      background-color: #E8F0FE;\n",
              "      border: none;\n",
              "      border-radius: 50%;\n",
              "      cursor: pointer;\n",
              "      display: none;\n",
              "      fill: #1967D2;\n",
              "      height: 32px;\n",
              "      padding: 0 0 0 0;\n",
              "      width: 32px;\n",
              "    }\n",
              "\n",
              "    .colab-df-convert:hover {\n",
              "      background-color: #E2EBFA;\n",
              "      box-shadow: 0px 1px 2px rgba(60, 64, 67, 0.3), 0px 1px 3px 1px rgba(60, 64, 67, 0.15);\n",
              "      fill: #174EA6;\n",
              "    }\n",
              "\n",
              "    [theme=dark] .colab-df-convert {\n",
              "      background-color: #3B4455;\n",
              "      fill: #D2E3FC;\n",
              "    }\n",
              "\n",
              "    [theme=dark] .colab-df-convert:hover {\n",
              "      background-color: #434B5C;\n",
              "      box-shadow: 0px 1px 3px 1px rgba(0, 0, 0, 0.15);\n",
              "      filter: drop-shadow(0px 1px 2px rgba(0, 0, 0, 0.3));\n",
              "      fill: #FFFFFF;\n",
              "    }\n",
              "  </style>\n",
              "\n",
              "      <script>\n",
              "        const buttonEl =\n",
              "          document.querySelector('#df-3f4c0574-78a7-4e3e-8b8b-6e32218ed894 button.colab-df-convert');\n",
              "        buttonEl.style.display =\n",
              "          google.colab.kernel.accessAllowed ? 'block' : 'none';\n",
              "\n",
              "        async function convertToInteractive(key) {\n",
              "          const element = document.querySelector('#df-3f4c0574-78a7-4e3e-8b8b-6e32218ed894');\n",
              "          const dataTable =\n",
              "            await google.colab.kernel.invokeFunction('convertToInteractive',\n",
              "                                                     [key], {});\n",
              "          if (!dataTable) return;\n",
              "\n",
              "          const docLinkHtml = 'Like what you see? Visit the ' +\n",
              "            '<a target=\"_blank\" href=https://colab.research.google.com/notebooks/data_table.ipynb>data table notebook</a>'\n",
              "            + ' to learn more about interactive tables.';\n",
              "          element.innerHTML = '';\n",
              "          dataTable['output_type'] = 'display_data';\n",
              "          await google.colab.output.renderOutput(dataTable, element);\n",
              "          const docLink = document.createElement('div');\n",
              "          docLink.innerHTML = docLinkHtml;\n",
              "          element.appendChild(docLink);\n",
              "        }\n",
              "      </script>\n",
              "    </div>\n",
              "  </div>\n",
              "  "
            ]
          },
          "metadata": {},
          "execution_count": 83
        }
      ]
    },
    {
      "cell_type": "markdown",
      "source": [
        "# Quick data exporation"
      ],
      "metadata": {
        "id": "UvCgnbL-kyRM"
      }
    },
    {
      "cell_type": "markdown",
      "source": [
        "## Nan values"
      ],
      "metadata": {
        "id": "sh3x9FXZlyxK"
      }
    },
    {
      "cell_type": "code",
      "source": [
        "assert not df_train.isna().any().any()\n",
        "assert not df_test.isna().any().any()"
      ],
      "metadata": {
        "id": "hJkMKrP9kzqc"
      },
      "execution_count": 28,
      "outputs": []
    },
    {
      "cell_type": "code",
      "source": [
        "import numpy as np\n",
        "print(np.max(df_train.values), np.min(df_train.values))\n",
        "print(np.max(df_test.values), np.min(df_test.values))"
      ],
      "metadata": {
        "colab": {
          "base_uri": "https://localhost:8080/"
        },
        "id": "KJkCkOPhlTt4",
        "outputId": "6f3a14ba-19ed-403a-ae94-627f3981afd6"
      },
      "execution_count": 32,
      "outputs": [
        {
          "output_type": "stream",
          "name": "stdout",
          "text": [
            "255 0\n",
            "255 0\n"
          ]
        }
      ]
    },
    {
      "cell_type": "markdown",
      "source": [
        "## Class balance"
      ],
      "metadata": {
        "id": "ObZ0Uylfl0Mw"
      }
    },
    {
      "cell_type": "code",
      "source": [
        "import matplotlib.pyplot as plt\n",
        "\n",
        "_, ax = plt.subplots()\n",
        "df_train['label'].hist(ax=ax)"
      ],
      "metadata": {
        "colab": {
          "base_uri": "https://localhost:8080/",
          "height": 283
        },
        "id": "nFqMKGNMl1C4",
        "outputId": "0ab88d00-896c-4451-f00c-66e597d3b153"
      },
      "execution_count": 37,
      "outputs": [
        {
          "output_type": "execute_result",
          "data": {
            "text/plain": [
              "<matplotlib.axes._subplots.AxesSubplot at 0x7f3a1a9b2790>"
            ]
          },
          "metadata": {},
          "execution_count": 37
        },
        {
          "output_type": "display_data",
          "data": {
            "text/plain": [
              "<Figure size 432x288 with 1 Axes>"
            ],
            "image/png": "[encoded data removed]"
          },
          "metadata": {
            "needs_background": "light"
          }
        }
      ]
    },
    {
      "cell_type": "markdown",
      "source": [
        "# Create train, validation and test sets"
      ],
      "metadata": {
        "id": "YDq7mRhbmMTb"
      }
    },
    {
      "cell_type": "code",
      "source": [
        "from sklearn.model_selection import train_test_split\n",
        "\n",
        "TRAINVAL_SIZE = 0.8\n",
        "RANDOM_STATE = 42\n",
        "\n",
        "df_trainval, df_test_sample = train_test_split(\n",
        "    df_train,\n",
        "    train_size=TRAINVAL_SIZE,\n",
        "    random_state=RANDOM_STATE,\n",
        "    stratify=df_train['label']\n",
        ")\n",
        "df_trainval.shape, df_test.shape"
      ],
      "metadata": {
        "colab": {
          "base_uri": "https://localhost:8080/"
        },
        "id": "I07rSYzfmNxH",
        "outputId": "85b156fd-d575-4536-91b6-b6acf155f4ae"
      },
      "execution_count": 86,
      "outputs": [
        {
          "output_type": "execute_result",
          "data": {
            "text/plain": [
              "((21504, 785), (28000, 784))"
            ]
          },
          "metadata": {},
          "execution_count": 86
        }
      ]
    },
    {
      "cell_type": "code",
      "source": [
        "TRAIN_SIZE = 0.8\n",
        "\n",
        "df_train, df_val = train_test_split(\n",
        "    df_trainval,\n",
        "    train_size=TRAIN_SIZE,\n",
        "    random_state=RANDOM_STATE,\n",
        "    stratify=df_trainval['label']\n",
        ")\n",
        "df_train.shape, df_val.shape"
      ],
      "metadata": {
        "colab": {
          "base_uri": "https://localhost:8080/"
        },
        "id": "YNoA3PiLme1T",
        "outputId": "4d77f60c-883f-4e20-d874-abcc5f540b3d"
      },
      "execution_count": 87,
      "outputs": [
        {
          "output_type": "execute_result",
          "data": {
            "text/plain": [
              "((17203, 785), (4301, 785))"
            ]
          },
          "metadata": {},
          "execution_count": 87
        }
      ]
    },
    {
      "cell_type": "markdown",
      "source": [
        "# Data exploration (from now on, on train set)"
      ],
      "metadata": {
        "id": "aqQvUxcVmz8u"
      }
    },
    {
      "cell_type": "code",
      "source": [
        "vals = df_train.values[0, 1:]\n",
        "type(vals)"
      ],
      "metadata": {
        "colab": {
          "base_uri": "https://localhost:8080/"
        },
        "id": "yFc2Wopmmp96",
        "outputId": "4bffa692-04d8-4795-e3c8-2579edcf8e5b"
      },
      "execution_count": 44,
      "outputs": [
        {
          "output_type": "execute_result",
          "data": {
            "text/plain": [
              "numpy.ndarray"
            ]
          },
          "metadata": {},
          "execution_count": 44
        }
      ]
    },
    {
      "cell_type": "code",
      "source": [
        "plt.imshow(vals.reshape(28, 28))\n",
        "plt.axis('off')"
      ],
      "metadata": {
        "colab": {
          "base_uri": "https://localhost:8080/",
          "height": 266
        },
        "id": "UeKU1D3Tm-Vt",
        "outputId": "e829b792-742e-47d3-d287-2e57e723d6dd"
      },
      "execution_count": 46,
      "outputs": [
        {
          "output_type": "execute_result",
          "data": {
            "text/plain": [
              "(-0.5, 27.5, 27.5, -0.5)"
            ]
          },
          "metadata": {},
          "execution_count": 46
        },
        {
          "output_type": "display_data",
          "data": {
            "text/plain": [
              "<Figure size 432x288 with 1 Axes>"
            ],
            "image/png": "[encoded data removed]"
          },
          "metadata": {
            "needs_background": "light"
          }
        }
      ]
    },
    {
      "cell_type": "markdown",
      "source": [
        "# Data preparation"
      ],
      "metadata": {
        "id": "lSC2_EVwnWZK"
      }
    },
    {
      "cell_type": "code",
      "source": [
        "df_test.shape, df_test_sample.shape"
      ],
      "metadata": {
        "colab": {
          "base_uri": "https://localhost:8080/"
        },
        "id": "gORxPl8upk90",
        "outputId": "c61a291c-d620-4508-bd78-ff64d9f6defc"
      },
      "execution_count": 88,
      "outputs": [
        {
          "output_type": "execute_result",
          "data": {
            "text/plain": [
              "((28000, 784), (5376, 785))"
            ]
          },
          "metadata": {},
          "execution_count": 88
        }
      ]
    },
    {
      "cell_type": "code",
      "source": [
        "df_train.values[:, 1:] = df_train.values[:, 1:] / 255.0\n",
        "df_val.values[:, 1:] = df_val.values[:, 1:] / 255.0\n",
        "df_test_sample.values[:, 1:] = df_test_sample.values[:, 1:] / 255.0\n",
        "\n",
        "df_test.values[:, :] = df_test.values[:, :] / 255.0"
      ],
      "metadata": {
        "id": "kJiH6NaOpCzi"
      },
      "execution_count": 89,
      "outputs": []
    },
    {
      "cell_type": "code",
      "source": [
        "assert df_train.values[:, 1:].max() <= 1.0\n",
        "assert df_test.values.max() <= 1.0\n",
        "assert df_test_sample.values[:, 1:].max() <= 1.0\n",
        "assert df_val.values[:, 1:].max()"
      ],
      "metadata": {
        "id": "fRj4p5SkoXLs"
      },
      "execution_count": 92,
      "outputs": []
    },
    {
      "cell_type": "code",
      "source": [
        "df_test_sample.values.max()"
      ],
      "metadata": {
        "colab": {
          "base_uri": "https://localhost:8080/"
        },
        "id": "dV5ijmNDrzj1",
        "outputId": "cdcb65ee-a4e6-4493-be4e-ea639af31146"
      },
      "execution_count": 93,
      "outputs": [
        {
          "output_type": "execute_result",
          "data": {
            "text/plain": [
              "9"
            ]
          },
          "metadata": {},
          "execution_count": 93
        }
      ]
    },
    {
      "cell_type": "markdown",
      "source": [
        "# Save data"
      ],
      "metadata": {
        "id": "8-9gCpX6p_ek"
      }
    },
    {
      "cell_type": "code",
      "source": [
        "manager.save_to_csv(\n",
        "    df_train,\n",
        "    manager.data_trial_path,\n",
        "    'train_processed.csv'\n",
        ")\n",
        "\n",
        "manager.save_to_csv(\n",
        "    df_val,\n",
        "    manager.data_trial_path,\n",
        "    'val_processed.csv'\n",
        ")"
      ],
      "metadata": {
        "id": "bBM8ksIzqCHT"
      },
      "execution_count": 94,
      "outputs": []
    },
    {
      "cell_type": "code",
      "source": [
        "manager.save_to_csv(\n",
        "    df_test_sample,\n",
        "    manager.data_trial_path,\n",
        "    'test_sample_processed.csv'\n",
        ")"
      ],
      "metadata": {
        "id": "hLH8cHBBr9WP"
      },
      "execution_count": 95,
      "outputs": []
    },
    {
      "cell_type": "code",
      "source": [
        "manager.save_to_csv(\n",
        "    df_test,\n",
        "    manager.data_trial_path,\n",
        "    'test_processed.csv'\n",
        ")"
      ],
      "metadata": {
        "id": "Px8vQhivsCCE"
      },
      "execution_count": 96,
      "outputs": []
    },
    {
      "cell_type": "markdown",
      "source": [
        "# Model preparation"
      ],
      "metadata": {
        "id": "m9aWw8xtsK0R"
      }
    },
    {
      "cell_type": "markdown",
      "source": [
        "## Sequential baseline"
      ],
      "metadata": {
        "id": "KvQvlNKwAFtj"
      }
    },
    {
      "cell_type": "code",
      "source": [
        "baseline_model = Sequential(\n",
        "    [\n",
        "        layers.Input(shape=(784, )),\n",
        "        layers.Dense(units=784, activation='relu'),\n",
        "        layers.Dense(units=100, activation='relu'),\n",
        "        layers.Dense(units=10, activation='softmax')\n",
        "    ]\n",
        ")"
      ],
      "metadata": {
        "id": "87OMTwnGsbea"
      },
      "execution_count": 122,
      "outputs": []
    },
    {
      "cell_type": "code",
      "source": [
        "baseline_model.compile(\n",
        "    loss='sparse_categorical_crossentropy',\n",
        "    optimizer='adam',\n",
        "    metrics=['accuracy']\n",
        ")"
      ],
      "metadata": {
        "id": "0uowXK7qslmd"
      },
      "execution_count": 123,
      "outputs": []
    },
    {
      "cell_type": "code",
      "source": [
        "X_train = df_train.values[:, 1:]\n",
        "Y_train = df_train.values[:, 0]\n",
        "\n",
        "X_validation = df_val.values[:, 1:]\n",
        "Y_validation = df_val.values[:, 0]\n",
        "\n",
        "X_test_sample = df_test_sample.values[:, 1:]\n",
        "Y_test_sample = df_test_sample.values[:, 0]\n",
        "\n",
        "X_test = df_test.values[:, :]\n",
        "\n",
        "assert X_train.shape[1] == X_validation.shape[1] == X_test.shape[1]"
      ],
      "metadata": {
        "id": "wMgmwYokwW4q"
      },
      "execution_count": 144,
      "outputs": []
    },
    {
      "cell_type": "code",
      "source": [
        "assert (np.unique(Y_train) == np.unique(Y_validation)).all()\n",
        "assert (np.unique(Y_validation) == np.unique(Y_test_sample)).all()"
      ],
      "metadata": {
        "id": "CfIoQ5wlwwNe"
      },
      "execution_count": 147,
      "outputs": []
    },
    {
      "cell_type": "code",
      "source": [
        "history = baseline_model.fit(\n",
        "    X_train,\n",
        "    Y_train,\n",
        "    validation_data=(X_validation, Y_validation),\n",
        "    batch_size=32,\n",
        "    epochs=5\n",
        ")"
      ],
      "metadata": {
        "colab": {
          "base_uri": "https://localhost:8080/"
        },
        "id": "CvEv_mg-tnTe",
        "outputId": "ebe4f05d-71b2-4365-a643-e94733f0e5e1"
      },
      "execution_count": 148,
      "outputs": [
        {
          "output_type": "stream",
          "name": "stdout",
          "text": [
            "Epoch 1/5\n",
            "538/538 [==============================] - 6s 11ms/step - loss: 1.3114 - accuracy: 0.5136 - val_loss: 1.7903 - val_accuracy: 0.4013\n",
            "Epoch 2/5\n",
            "538/538 [==============================] - 5s 9ms/step - loss: 1.3000 - accuracy: 0.5124 - val_loss: 1.8018 - val_accuracy: 0.3964\n",
            "Epoch 3/5\n",
            "538/538 [==============================] - 5s 8ms/step - loss: 1.2941 - accuracy: 0.5113 - val_loss: 1.8159 - val_accuracy: 0.3962\n",
            "Epoch 4/5\n",
            "538/538 [==============================] - 5s 9ms/step - loss: 1.2870 - accuracy: 0.5154 - val_loss: 1.8308 - val_accuracy: 0.3941\n",
            "Epoch 5/5\n",
            "538/538 [==============================] - 5s 8ms/step - loss: 1.2822 - accuracy: 0.5175 - val_loss: 1.8440 - val_accuracy: 0.3980\n"
          ]
        }
      ]
    },
    {
      "cell_type": "code",
      "source": [
        "baseline_model.evaluate(\n",
        "    X_validation,\n",
        "    Y_validation\n",
        ")"
      ],
      "metadata": {
        "colab": {
          "base_uri": "https://localhost:8080/"
        },
        "id": "WCQ6-Ih6u4lY",
        "outputId": "d01419a2-4ba9-4cd8-bded-73d8c4707927"
      },
      "execution_count": 149,
      "outputs": [
        {
          "output_type": "stream",
          "name": "stdout",
          "text": [
            "135/135 [==============================] - 1s 9ms/step - loss: 1.8440 - accuracy: 0.3980\n"
          ]
        },
        {
          "output_type": "execute_result",
          "data": {
            "text/plain": [
              "[1.8440223932266235, 0.39804697036743164]"
            ]
          },
          "metadata": {},
          "execution_count": 149
        }
      ]
    },
    {
      "cell_type": "code",
      "source": [
        "_, ax = plt.subplots(1, 2, figsize=(8, 3))\n",
        "\n",
        "ax[0].plot(\n",
        "    history.history['loss'],\n",
        "    label='loss'\n",
        ")\n",
        "ax[0].plot(\n",
        "    history.history['val_loss'],\n",
        "    label='val_loss'\n",
        ")\n",
        "\n",
        "ax[0].legend()\n",
        "\n",
        "ax[1].plot(\n",
        "    history.history['accuracy'],\n",
        "    label='acc'\n",
        ")\n",
        "ax[1].plot(\n",
        "    history.history['val_accuracy'],\n",
        "    label='val_acc'\n",
        ")\n",
        "ax[1].legend()\n",
        "\n",
        "history.history.keys()"
      ],
      "metadata": {
        "colab": {
          "base_uri": "https://localhost:8080/",
          "height": 229
        },
        "id": "Zbmsd0MSvBbH",
        "outputId": "a8be1421-6a7e-4571-9c84-8a81fc4ad124"
      },
      "execution_count": 153,
      "outputs": [
        {
          "output_type": "execute_result",
          "data": {
            "text/plain": [
              "dict_keys(['loss', 'accuracy', 'val_loss', 'val_accuracy'])"
            ]
          },
          "metadata": {},
          "execution_count": 153
        },
        {
          "output_type": "display_data",
          "data": {
            "text/plain": [
              "<Figure size 576x216 with 2 Axes>"
            ],
            "image/png": "[encoded data removed]"
          },
          "metadata": {
            "needs_background": "light"
          }
        }
      ]
    },
    {
      "cell_type": "markdown",
      "source": [
        "## Baseline CNN"
      ],
      "metadata": {
        "id": "CalzSxWSycBn"
      }
    },
    {
      "cell_type": "code",
      "source": [
        "X_train.reshape(X_train.shape[0], 28, 28).shape"
      ],
      "metadata": {
        "colab": {
          "base_uri": "https://localhost:8080/"
        },
        "id": "8jPW2Qlgydix",
        "outputId": "e8c8b5cb-2ccb-45d3-8cc8-7004e39f9816"
      },
      "execution_count": 180,
      "outputs": [
        {
          "output_type": "execute_result",
          "data": {
            "text/plain": [
              "(17203, 28, 28)"
            ]
          },
          "metadata": {},
          "execution_count": 180
        }
      ]
    },
    {
      "cell_type": "code",
      "source": [
        "baseline_cnn = Sequential(\n",
        "    [\n",
        "        layers.Input(shape=(28, 28, 1)),\n",
        "        layers.Conv2D(filters=32, kernel_size=(5, 5), activation='relu'),\n",
        "        layers.Conv2D(filters=64, kernel_size=(3, 3), activation='relu'),\n",
        "        layers.Conv2D(filters=128, kernel_size=(3, 3), activation='relu'),\n",
        "        layers.Flatten(),\n",
        "        layers.Dense(100, activation='relu'),\n",
        "        layers.Dropout(0.4),\n",
        "        layers.Dense(10, activation='softmax')\n",
        "    ]\n",
        ")"
      ],
      "metadata": {
        "id": "PvY7KZ7nyj4x"
      },
      "execution_count": 190,
      "outputs": []
    },
    {
      "cell_type": "code",
      "source": [
        "early_stopper = EarlyStopping(\n",
        "    patience=2,\n",
        "    monitor='val_loss',\n",
        "    mode='min'\n",
        ")"
      ],
      "metadata": {
        "id": "IJ74LxF00ol4"
      },
      "execution_count": 191,
      "outputs": []
    },
    {
      "cell_type": "code",
      "source": [
        "baseline_cnn.compile(\n",
        "    loss='sparse_categorical_crossentropy',\n",
        "    metrics='accuracy',\n",
        "    optimizer='adam'\n",
        ")"
      ],
      "metadata": {
        "id": "i_jFuEtIzKka"
      },
      "execution_count": 192,
      "outputs": []
    },
    {
      "cell_type": "code",
      "source": [
        "history = baseline_cnn.fit(\n",
        "    X_train.reshape(X_train.shape[0], 28, 28),\n",
        "    Y_train,\n",
        "    validation_data=(\n",
        "        X_validation.reshape(X_validation.shape[0], 28, 28), Y_validation\n",
        "    ),\n",
        "    batch_size=32,\n",
        "    epochs=20,\n",
        "    callbacks=[early_stopper]\n",
        ")"
      ],
      "metadata": {
        "colab": {
          "base_uri": "https://localhost:8080/"
        },
        "id": "PopPOG7yzUhw",
        "outputId": "4d610cdd-1fb2-4185-b866-5614996d34b1"
      },
      "execution_count": 193,
      "outputs": [
        {
          "output_type": "stream",
          "name": "stdout",
          "text": [
            "Epoch 1/20\n",
            "538/538 [==============================] - 139s 257ms/step - loss: 1.8171 - accuracy: 0.3576 - val_loss: 1.6499 - val_accuracy: 0.4036\n",
            "Epoch 2/20\n",
            "538/538 [==============================] - 144s 269ms/step - loss: 1.6728 - accuracy: 0.4033 - val_loss: 1.6368 - val_accuracy: 0.4129\n",
            "Epoch 3/20\n",
            "538/538 [==============================] - 150s 280ms/step - loss: 1.6216 - accuracy: 0.4210 - val_loss: 1.6266 - val_accuracy: 0.4127\n",
            "Epoch 4/20\n",
            "538/538 [==============================] - 177s 328ms/step - loss: 1.5871 - accuracy: 0.4271 - val_loss: 1.6272 - val_accuracy: 0.4208\n",
            "Epoch 5/20\n",
            "538/538 [==============================] - 145s 269ms/step - loss: 1.5584 - accuracy: 0.4378 - val_loss: 1.6365 - val_accuracy: 0.4225\n"
          ]
        }
      ]
    },
    {
      "cell_type": "code",
      "source": [
        "_, ax = plt.subplots(1, 2)\n",
        "ax[0].plot(history.history['loss'], label='loss')\n",
        "ax[0].plot(history.history['val_loss'], label='val_loss')\n",
        "ax[0].legend()\n",
        "\n",
        "ax[1].plot(history.history['accuracy'], label='accuracy')\n",
        "ax[1].plot(history.history['val_accuracy'], label='val_accuracy')\n",
        "ax[1].legend()"
      ],
      "metadata": {
        "colab": {
          "base_uri": "https://localhost:8080/",
          "height": 283
        },
        "id": "3jjGjx-BBq6l",
        "outputId": "b88146d1-6914-4d95-df82-4911c6e8dd81"
      },
      "execution_count": 197,
      "outputs": [
        {
          "output_type": "execute_result",
          "data": {
            "text/plain": [
              "<matplotlib.legend.Legend at 0x7f39bcb38ca0>"
            ]
          },
          "metadata": {},
          "execution_count": 197
        },
        {
          "output_type": "display_data",
          "data": {
            "text/plain": [
              "<Figure size 432x288 with 2 Axes>"
            ],
            "image/png": "[encoded data removed]"
          },
          "metadata": {
            "needs_background": "light"
          }
        }
      ]
    },
    {
      "cell_type": "markdown",
      "source": [
        "# Enwrap FFNN into grid search CV"
      ],
      "metadata": {
        "id": "Ets_dlP4A_Or"
      }
    },
    {
      "cell_type": "code",
      "source": [
        "X_train[0].shape"
      ],
      "metadata": {
        "colab": {
          "base_uri": "https://localhost:8080/"
        },
        "id": "75EvMUDJChg-",
        "outputId": "9b2a5f40-2b5f-4202-ec8b-48b9b6ee51f1"
      },
      "execution_count": 198,
      "outputs": [
        {
          "output_type": "execute_result",
          "data": {
            "text/plain": [
              "(784,)"
            ]
          },
          "metadata": {},
          "execution_count": 198
        }
      ]
    },
    {
      "cell_type": "code",
      "source": [
        "from tensorflow.keras.models import Sequential\n",
        "from tensorflow.keras.layers import Input\n",
        "from tensorflow.keras.layers import Dense\n",
        "from tensorflow.keras.optimizers import Adam\n",
        "from tensorflow.keras.layers import Dropout\n",
        "from tensorflow.keras.wrappers.scikit_learn import KerasRegressor\n",
        "\n",
        "\n",
        "def build_model(\n",
        "    n_hidden_layers_=3,\n",
        "    add_dropout_=True,\n",
        "    width_=100,\n",
        "    activation_='relu',\n",
        "    learning_rate_=0.001\n",
        "):\n",
        "    model = Sequential()\n",
        "    model.add(Input(shape=(784,)))\n",
        "\n",
        "    for _ in range(n_hidden_layers_ - 1):\n",
        "        model.add(Dense(units=width_, activation=activation_))\n",
        "    \n",
        "    if add_dropout_:\n",
        "        model.add(Dropout(0.4))\n",
        "\n",
        "    model.add(Dense(10, activation='softmax'))\n",
        "    model.compile(\n",
        "        optimizer=Adam(learning_rate=learning_rate_),\n",
        "        loss='sparse_categorical_crossentropy',\n",
        "        metrics=['accuracy']\n",
        "    )\n",
        "    \n",
        "\n"
      ],
      "metadata": {
        "id": "TF10eFSgBI9b"
      },
      "execution_count": 237,
      "outputs": []
    },
    {
      "cell_type": "code",
      "source": [
        "keras_reg = KerasRegressor(build_model)"
      ],
      "metadata": {
        "colab": {
          "base_uri": "https://localhost:8080/"
        },
        "id": "HMj4xTT7EN1n",
        "outputId": "398b0704-adaf-40f5-ee54-b50b7fb68ede"
      },
      "execution_count": 238,
      "outputs": [
        {
          "output_type": "stream",
          "name": "stderr",
          "text": [
            "<ipython-input-238-e1ebe08fc635>:1: DeprecationWarning: KerasRegressor is deprecated, use Sci-Keras (https://github.com/adriangb/scikeras) instead. See https://www.adriangb.com/scikeras/stable/migration.html for help migrating.\n",
            "  keras_reg = KerasRegressor(build_model)\n"
          ]
        }
      ]
    },
    {
      "cell_type": "code",
      "source": [
        "from sklearn.model_selection import GridSearchCV"
      ],
      "metadata": {
        "id": "yZIi4CjLFZ_J"
      },
      "execution_count": 239,
      "outputs": []
    },
    {
      "cell_type": "code",
      "source": [
        "estimator = GridSearchCV(\n",
        "    keras_reg,\n",
        "    {\n",
        "        'n_hidden_layers_': [2, 4],\n",
        "        'add_dropout_': [True, False],\n",
        "    },\n",
        "    cv=3\n",
        ")"
      ],
      "metadata": {
        "id": "wmRsNCtwFrM8"
      },
      "execution_count": 240,
      "outputs": []
    },
    {
      "cell_type": "code",
      "source": [
        "X_train_subsample, _, Y_train_subsample, _ = train_test_split(\n",
        "    X_train,\n",
        "    Y_train,\n",
        "    train_size=0.1,\n",
        "    random_state=RANDOM_STATE,\n",
        "    stratify=Y_train\n",
        ")\n",
        "\n",
        "X_validation_subsample, _, Y_validation_subsample, _ = \\\n",
        "    train_test_split(\n",
        "        X_validation,\n",
        "        Y_validation,\n",
        "        train_size=0.1,\n",
        "        random_state=RANDOM_STATE,\n",
        "        stratify=Y_validation\n",
        "    )"
      ],
      "metadata": {
        "id": "NdD5lWK5GV5O"
      },
      "execution_count": 241,
      "outputs": []
    },
    {
      "cell_type": "code",
      "source": [
        "X_train_subsample.shape, Y_train_subsample.shape, \\\n",
        "    X_validation_subsample.shape, Y_validation_subsample.shape"
      ],
      "metadata": {
        "colab": {
          "base_uri": "https://localhost:8080/"
        },
        "id": "VGTVR3YoG5Wl",
        "outputId": "69be8541-c134-46e7-bbc8-ee445eebd424"
      },
      "execution_count": 242,
      "outputs": [
        {
          "output_type": "execute_result",
          "data": {
            "text/plain": [
              "((1720, 784), (1720,), (430, 784), (430,))"
            ]
          },
          "metadata": {},
          "execution_count": 242
        }
      ]
    },
    {
      "cell_type": "code",
      "source": [
        "estimator.fit(\n",
        "    X_train_subsample,\n",
        "    Y_train_subsample,\n",
        "    epochs=10,\n",
        "    validation_data=(X_validation_subsample, Y_validation_subsample),\n",
        "    batch_size=32,\n",
        "    callbacks=[EarlyStopping(patience=2, mode='min', monitor='val_accuracy')]\n",
        ")"
      ],
      "metadata": {
        "colab": {
          "base_uri": "https://localhost:8080/",
          "height": 737
        },
        "id": "0hqg4E0EF5yd",
        "outputId": "c42bf758-2f59-42e0-d542-ef655e320009"
      },
      "execution_count": 243,
      "outputs": [
        {
          "output_type": "stream",
          "name": "stderr",
          "text": [
            "/usr/local/lib/python3.8/dist-packages/sklearn/model_selection/_validation.py:372: FitFailedWarning: \n",
            "12 fits failed out of a total of 12.\n",
            "The score on these train-test partitions for these parameters will be set to nan.\n",
            "If these failures are not expected, you can try to debug them by setting error_score='raise'.\n",
            "\n",
            "Below are more details about the failures:\n",
            "--------------------------------------------------------------------------------\n",
            "12 fits failed with the following error:\n",
            "Traceback (most recent call last):\n",
            "  File \"/usr/local/lib/python3.8/dist-packages/sklearn/model_selection/_validation.py\", line 680, in _fit_and_score\n",
            "    estimator.fit(X_train, y_train, **fit_params)\n",
            "  File \"/usr/local/lib/python3.8/dist-packages/keras/wrappers/scikit_learn.py\", line 157, in fit\n",
            "    if (losses.is_categorical_crossentropy(self.model.loss) and\n",
            "AttributeError: 'NoneType' object has no attribute 'loss'\n",
            "\n",
            "  warnings.warn(some_fits_failed_message, FitFailedWarning)\n",
            "/usr/local/lib/python3.8/dist-packages/sklearn/model_selection/_search.py:969: UserWarning: One or more of the test scores are non-finite: [nan nan nan nan]\n",
            "  warnings.warn(\n"
          ]
        },
        {
          "output_type": "error",
          "ename": "AttributeError",
          "evalue": "ignored",
          "traceback": [
            "\u001b[0;31m---------------------------------------------------------------------------\u001b[0m",
            "\u001b[0;31mAttributeError\u001b[0m                            Traceback (most recent call last)",
            "\u001b[0;32m<ipython-input-243-87e55818c905>\u001b[0m in \u001b[0;36m<module>\u001b[0;34m\u001b[0m\n\u001b[0;32m----> 1\u001b[0;31m estimator.fit(\n\u001b[0m\u001b[1;32m      2\u001b[0m     \u001b[0mX_train_subsample\u001b[0m\u001b[0;34m,\u001b[0m\u001b[0;34m\u001b[0m\u001b[0;34m\u001b[0m\u001b[0m\n\u001b[1;32m      3\u001b[0m     \u001b[0mY_train_subsample\u001b[0m\u001b[0;34m,\u001b[0m\u001b[0;34m\u001b[0m\u001b[0;34m\u001b[0m\u001b[0m\n\u001b[1;32m      4\u001b[0m     \u001b[0mepochs\u001b[0m\u001b[0;34m=\u001b[0m\u001b[0;36m10\u001b[0m\u001b[0;34m,\u001b[0m\u001b[0;34m\u001b[0m\u001b[0;34m\u001b[0m\u001b[0m\n\u001b[1;32m      5\u001b[0m     \u001b[0mvalidation_data\u001b[0m\u001b[0;34m=\u001b[0m\u001b[0;34m(\u001b[0m\u001b[0mX_validation_subsample\u001b[0m\u001b[0;34m,\u001b[0m \u001b[0mY_validation_subsample\u001b[0m\u001b[0;34m)\u001b[0m\u001b[0;34m,\u001b[0m\u001b[0;34m\u001b[0m\u001b[0;34m\u001b[0m\u001b[0m\n",
            "\u001b[0;32m/usr/local/lib/python3.8/dist-packages/sklearn/model_selection/_search.py\u001b[0m in \u001b[0;36mfit\u001b[0;34m(self, X, y, groups, **fit_params)\u001b[0m\n\u001b[1;32m    924\u001b[0m             \u001b[0mrefit_start_time\u001b[0m \u001b[0;34m=\u001b[0m \u001b[0mtime\u001b[0m\u001b[0;34m.\u001b[0m\u001b[0mtime\u001b[0m\u001b[0;34m(\u001b[0m\u001b[0;34m)\u001b[0m\u001b[0;34m\u001b[0m\u001b[0;34m\u001b[0m\u001b[0m\n\u001b[1;32m    925\u001b[0m             \u001b[0;32mif\u001b[0m \u001b[0my\u001b[0m \u001b[0;32mis\u001b[0m \u001b[0;32mnot\u001b[0m \u001b[0;32mNone\u001b[0m\u001b[0;34m:\u001b[0m\u001b[0;34m\u001b[0m\u001b[0;34m\u001b[0m\u001b[0m\n\u001b[0;32m--> 926\u001b[0;31m                 \u001b[0mself\u001b[0m\u001b[0;34m.\u001b[0m\u001b[0mbest_estimator_\u001b[0m\u001b[0;34m.\u001b[0m\u001b[0mfit\u001b[0m\u001b[0;34m(\u001b[0m\u001b[0mX\u001b[0m\u001b[0;34m,\u001b[0m \u001b[0my\u001b[0m\u001b[0;34m,\u001b[0m \u001b[0;34m**\u001b[0m\u001b[0mfit_params\u001b[0m\u001b[0;34m)\u001b[0m\u001b[0;34m\u001b[0m\u001b[0;34m\u001b[0m\u001b[0m\n\u001b[0m\u001b[1;32m    927\u001b[0m             \u001b[0;32melse\u001b[0m\u001b[0;34m:\u001b[0m\u001b[0;34m\u001b[0m\u001b[0;34m\u001b[0m\u001b[0m\n\u001b[1;32m    928\u001b[0m                 \u001b[0mself\u001b[0m\u001b[0;34m.\u001b[0m\u001b[0mbest_estimator_\u001b[0m\u001b[0;34m.\u001b[0m\u001b[0mfit\u001b[0m\u001b[0;34m(\u001b[0m\u001b[0mX\u001b[0m\u001b[0;34m,\u001b[0m \u001b[0;34m**\u001b[0m\u001b[0mfit_params\u001b[0m\u001b[0;34m)\u001b[0m\u001b[0;34m\u001b[0m\u001b[0;34m\u001b[0m\u001b[0m\n",
            "\u001b[0;32m/usr/local/lib/python3.8/dist-packages/keras/wrappers/scikit_learn.py\u001b[0m in \u001b[0;36mfit\u001b[0;34m(self, x, y, **kwargs)\u001b[0m\n\u001b[1;32m    155\u001b[0m       \u001b[0mself\u001b[0m\u001b[0;34m.\u001b[0m\u001b[0mmodel\u001b[0m \u001b[0;34m=\u001b[0m \u001b[0mself\u001b[0m\u001b[0;34m.\u001b[0m\u001b[0mbuild_fn\u001b[0m\u001b[0;34m(\u001b[0m\u001b[0;34m**\u001b[0m\u001b[0mself\u001b[0m\u001b[0;34m.\u001b[0m\u001b[0mfilter_sk_params\u001b[0m\u001b[0;34m(\u001b[0m\u001b[0mself\u001b[0m\u001b[0;34m.\u001b[0m\u001b[0mbuild_fn\u001b[0m\u001b[0;34m)\u001b[0m\u001b[0;34m)\u001b[0m\u001b[0;34m\u001b[0m\u001b[0;34m\u001b[0m\u001b[0m\n\u001b[1;32m    156\u001b[0m \u001b[0;34m\u001b[0m\u001b[0m\n\u001b[0;32m--> 157\u001b[0;31m     if (losses.is_categorical_crossentropy(self.model.loss) and\n\u001b[0m\u001b[1;32m    158\u001b[0m         len(y.shape) != 2):\n\u001b[1;32m    159\u001b[0m       \u001b[0my\u001b[0m \u001b[0;34m=\u001b[0m \u001b[0mto_categorical\u001b[0m\u001b[0;34m(\u001b[0m\u001b[0my\u001b[0m\u001b[0;34m)\u001b[0m\u001b[0;34m\u001b[0m\u001b[0;34m\u001b[0m\u001b[0m\n",
            "\u001b[0;31mAttributeError\u001b[0m: 'NoneType' object has no attribute 'loss'"
          ]
        }
      ]
    },
    {
      "cell_type": "code",
      "source": [
        "import keras\n",
        "def build_model(n_hidden=1, n_neurons=30, learning_rate=3e-3, input_shape=[784,]):\n",
        "    model = keras.models.Sequential()\n",
        "    options = {\"input_shape\": input_shape}\n",
        "    for layer in range(n_hidden):\n",
        "        model.add(keras.layers.Dense(n_neurons, activation=\"relu\", **options))\n",
        "        options = {}\n",
        "    model.add(keras.layers.Dense(10, activation='softmax', **options))\n",
        "    optimizer = keras.optimizers.SGD(learning_rate)\n",
        "    model.compile(\n",
        "        loss=\"sparse_categorical_crossentropy\",\n",
        "        optimizer=optimizer,\n",
        "        metrics=['accuracy']\n",
        "    )\n",
        "    return model"
      ],
      "metadata": {
        "id": "KVUQxfUMH4jY"
      },
      "execution_count": 260,
      "outputs": []
    },
    {
      "cell_type": "code",
      "source": [
        "keras_reg = keras.wrappers.scikit_learn.KerasRegressor(build_model)"
      ],
      "metadata": {
        "colab": {
          "base_uri": "https://localhost:8080/"
        },
        "id": "1t9lAgRKH48C",
        "outputId": "1e0e12d7-7c48-4ccf-f0d8-d9f1916c11d7"
      },
      "execution_count": 254,
      "outputs": [
        {
          "output_type": "stream",
          "name": "stderr",
          "text": [
            "<ipython-input-254-651c14c6d32f>:1: DeprecationWarning: KerasRegressor is deprecated, use Sci-Keras (https://github.com/adriangb/scikeras) instead. See https://www.adriangb.com/scikeras/stable/migration.html for help migrating.\n",
            "  keras_reg = keras.wrappers.scikit_learn.KerasRegressor(build_model)\n"
          ]
        }
      ]
    },
    {
      "cell_type": "code",
      "source": [
        "res = keras_reg.fit(\n",
        "    X_train_subsample,\n",
        "    Y_train_subsample,\n",
        "    epochs=100,\n",
        "    validation_data=(X_validation_subsample, Y_validation_subsample),\n",
        "    callbacks=[keras.callbacks.EarlyStopping(patience=10)])\n",
        "\n",
        "# mse_test = keras_reg.score(X_test, y_test)\n",
        "# y_pred = keras_reg.predict(X_new)"
      ],
      "metadata": {
        "colab": {
          "base_uri": "https://localhost:8080/"
        },
        "id": "unZqfit3H-Y8",
        "outputId": "0c81d5f6-12b3-4454-f6a9-a6c18f6347e5"
      },
      "execution_count": 255,
      "outputs": [
        {
          "output_type": "stream",
          "name": "stdout",
          "text": [
            "Epoch 1/100\n",
            "54/54 [==============================] - 1s 6ms/step - loss: 2.3057 - val_loss: 2.3071\n",
            "Epoch 2/100\n",
            "54/54 [==============================] - 0s 4ms/step - loss: 2.3050 - val_loss: 2.3066\n",
            "Epoch 3/100\n",
            "54/54 [==============================] - 0s 3ms/step - loss: 2.3042 - val_loss: 2.3061\n",
            "Epoch 4/100\n",
            "54/54 [==============================] - 0s 3ms/step - loss: 2.3035 - val_loss: 2.3057\n",
            "Epoch 5/100\n",
            "54/54 [==============================] - 0s 3ms/step - loss: 2.3028 - val_loss: 2.3053\n",
            "Epoch 6/100\n",
            "54/54 [==============================] - 0s 3ms/step - loss: 2.3021 - val_loss: 2.3049\n",
            "Epoch 7/100\n",
            "54/54 [==============================] - 0s 3ms/step - loss: 2.3014 - val_loss: 2.3044\n",
            "Epoch 8/100\n",
            "54/54 [==============================] - 0s 3ms/step - loss: 2.3007 - val_loss: 2.3040\n",
            "Epoch 9/100\n",
            "54/54 [==============================] - 0s 3ms/step - loss: 2.3001 - val_loss: 2.3037\n",
            "Epoch 10/100\n",
            "54/54 [==============================] - 0s 4ms/step - loss: 2.2994 - val_loss: 2.3033\n",
            "Epoch 11/100\n",
            "54/54 [==============================] - 0s 3ms/step - loss: 2.2988 - val_loss: 2.3029\n",
            "Epoch 12/100\n",
            "54/54 [==============================] - 0s 3ms/step - loss: 2.2982 - val_loss: 2.3025\n",
            "Epoch 13/100\n",
            "54/54 [==============================] - 0s 3ms/step - loss: 2.2975 - val_loss: 2.3021\n",
            "Epoch 14/100\n",
            "54/54 [==============================] - 0s 3ms/step - loss: 2.2969 - val_loss: 2.3018\n",
            "Epoch 15/100\n",
            "54/54 [==============================] - 0s 2ms/step - loss: 2.2963 - val_loss: 2.3014\n",
            "Epoch 16/100\n",
            "54/54 [==============================] - 0s 3ms/step - loss: 2.2957 - val_loss: 2.3011\n",
            "Epoch 17/100\n",
            "54/54 [==============================] - 0s 3ms/step - loss: 2.2951 - val_loss: 2.3007\n",
            "Epoch 18/100\n",
            "54/54 [==============================] - 0s 3ms/step - loss: 2.2945 - val_loss: 2.3004\n",
            "Epoch 19/100\n",
            "54/54 [==============================] - 0s 3ms/step - loss: 2.2939 - val_loss: 2.3001\n",
            "Epoch 20/100\n",
            "54/54 [==============================] - 0s 3ms/step - loss: 2.2934 - val_loss: 2.2997\n",
            "Epoch 21/100\n",
            "54/54 [==============================] - 0s 3ms/step - loss: 2.2928 - val_loss: 2.2994\n",
            "Epoch 22/100\n",
            "54/54 [==============================] - 0s 2ms/step - loss: 2.2922 - val_loss: 2.2991\n",
            "Epoch 23/100\n",
            "54/54 [==============================] - 0s 3ms/step - loss: 2.2917 - val_loss: 2.2988\n",
            "Epoch 24/100\n",
            "54/54 [==============================] - 0s 3ms/step - loss: 2.2911 - val_loss: 2.2985\n",
            "Epoch 25/100\n",
            "54/54 [==============================] - 0s 3ms/step - loss: 2.2906 - val_loss: 2.2982\n",
            "Epoch 26/100\n",
            "54/54 [==============================] - 0s 3ms/step - loss: 2.2900 - val_loss: 2.2979\n",
            "Epoch 27/100\n",
            "54/54 [==============================] - 0s 3ms/step - loss: 2.2895 - val_loss: 2.2976\n",
            "Epoch 28/100\n",
            "54/54 [==============================] - 0s 3ms/step - loss: 2.2889 - val_loss: 2.2973\n",
            "Epoch 29/100\n",
            "54/54 [==============================] - 0s 3ms/step - loss: 2.2884 - val_loss: 2.2970\n",
            "Epoch 30/100\n",
            "54/54 [==============================] - 0s 3ms/step - loss: 2.2878 - val_loss: 2.2967\n",
            "Epoch 31/100\n",
            "54/54 [==============================] - 0s 3ms/step - loss: 2.2873 - val_loss: 2.2964\n",
            "Epoch 32/100\n",
            "54/54 [==============================] - 0s 2ms/step - loss: 2.2868 - val_loss: 2.2961\n",
            "Epoch 33/100\n",
            "54/54 [==============================] - 0s 3ms/step - loss: 2.2863 - val_loss: 2.2958\n",
            "Epoch 34/100\n",
            "54/54 [==============================] - 0s 3ms/step - loss: 2.2857 - val_loss: 2.2955\n",
            "Epoch 35/100\n",
            "54/54 [==============================] - 0s 2ms/step - loss: 2.2852 - val_loss: 2.2953\n",
            "Epoch 36/100\n",
            "54/54 [==============================] - 0s 3ms/step - loss: 2.2847 - val_loss: 2.2950\n",
            "Epoch 37/100\n",
            "54/54 [==============================] - 0s 3ms/step - loss: 2.2842 - val_loss: 2.2947\n",
            "Epoch 38/100\n",
            "54/54 [==============================] - 0s 3ms/step - loss: 2.2837 - val_loss: 2.2944\n",
            "Epoch 39/100\n",
            "54/54 [==============================] - 0s 3ms/step - loss: 2.2832 - val_loss: 2.2941\n",
            "Epoch 40/100\n",
            "54/54 [==============================] - 0s 2ms/step - loss: 2.2826 - val_loss: 2.2939\n",
            "Epoch 41/100\n",
            "54/54 [==============================] - 0s 3ms/step - loss: 2.2821 - val_loss: 2.2936\n",
            "Epoch 42/100\n",
            "54/54 [==============================] - 0s 3ms/step - loss: 2.2816 - val_loss: 2.2933\n",
            "Epoch 43/100\n",
            "54/54 [==============================] - 0s 3ms/step - loss: 2.2811 - val_loss: 2.2930\n",
            "Epoch 44/100\n",
            "54/54 [==============================] - 0s 2ms/step - loss: 2.2806 - val_loss: 2.2928\n",
            "Epoch 45/100\n",
            "54/54 [==============================] - 0s 3ms/step - loss: 2.2801 - val_loss: 2.2925\n",
            "Epoch 46/100\n",
            "54/54 [==============================] - 0s 2ms/step - loss: 2.2796 - val_loss: 2.2922\n",
            "Epoch 47/100\n",
            "54/54 [==============================] - 0s 3ms/step - loss: 2.2791 - val_loss: 2.2919\n",
            "Epoch 48/100\n",
            "54/54 [==============================] - 0s 3ms/step - loss: 2.2786 - val_loss: 2.2917\n",
            "Epoch 49/100\n",
            "54/54 [==============================] - 0s 3ms/step - loss: 2.2781 - val_loss: 2.2914\n",
            "Epoch 50/100\n",
            "54/54 [==============================] - 0s 3ms/step - loss: 2.2776 - val_loss: 2.2911\n",
            "Epoch 51/100\n",
            "54/54 [==============================] - 0s 3ms/step - loss: 2.2771 - val_loss: 2.2908\n",
            "Epoch 52/100\n",
            "54/54 [==============================] - 0s 3ms/step - loss: 2.2766 - val_loss: 2.2905\n",
            "Epoch 53/100\n",
            "54/54 [==============================] - 0s 3ms/step - loss: 2.2761 - val_loss: 2.2903\n",
            "Epoch 54/100\n",
            "54/54 [==============================] - 0s 3ms/step - loss: 2.2756 - val_loss: 2.2900\n",
            "Epoch 55/100\n",
            "54/54 [==============================] - 0s 3ms/step - loss: 2.2751 - val_loss: 2.2897\n",
            "Epoch 56/100\n",
            "54/54 [==============================] - 0s 3ms/step - loss: 2.2746 - val_loss: 2.2894\n",
            "Epoch 57/100\n",
            "54/54 [==============================] - 0s 3ms/step - loss: 2.2741 - val_loss: 2.2891\n",
            "Epoch 58/100\n",
            "54/54 [==============================] - 0s 3ms/step - loss: 2.2736 - val_loss: 2.2889\n",
            "Epoch 59/100\n",
            "54/54 [==============================] - 0s 2ms/step - loss: 2.2731 - val_loss: 2.2886\n",
            "Epoch 60/100\n",
            "54/54 [==============================] - 0s 2ms/step - loss: 2.2726 - val_loss: 2.2883\n",
            "Epoch 61/100\n",
            "54/54 [==============================] - 0s 3ms/step - loss: 2.2721 - val_loss: 2.2880\n",
            "Epoch 62/100\n",
            "54/54 [==============================] - 0s 3ms/step - loss: 2.2716 - val_loss: 2.2877\n",
            "Epoch 63/100\n",
            "54/54 [==============================] - 0s 3ms/step - loss: 2.2711 - val_loss: 2.2874\n",
            "Epoch 64/100\n",
            "54/54 [==============================] - 0s 2ms/step - loss: 2.2706 - val_loss: 2.2871\n",
            "Epoch 65/100\n",
            "54/54 [==============================] - 0s 3ms/step - loss: 2.2701 - val_loss: 2.2868\n",
            "Epoch 66/100\n",
            "54/54 [==============================] - 0s 3ms/step - loss: 2.2696 - val_loss: 2.2865\n",
            "Epoch 67/100\n",
            "54/54 [==============================] - 0s 3ms/step - loss: 2.2691 - val_loss: 2.2862\n",
            "Epoch 68/100\n",
            "54/54 [==============================] - 0s 3ms/step - loss: 2.2686 - val_loss: 2.2860\n",
            "Epoch 69/100\n",
            "54/54 [==============================] - 0s 3ms/step - loss: 2.2680 - val_loss: 2.2857\n",
            "Epoch 70/100\n",
            "54/54 [==============================] - 0s 4ms/step - loss: 2.2675 - val_loss: 2.2854\n",
            "Epoch 71/100\n",
            "54/54 [==============================] - 0s 3ms/step - loss: 2.2670 - val_loss: 2.2851\n",
            "Epoch 72/100\n",
            "54/54 [==============================] - 0s 3ms/step - loss: 2.2665 - val_loss: 2.2848\n",
            "Epoch 73/100\n",
            "54/54 [==============================] - 0s 2ms/step - loss: 2.2660 - val_loss: 2.2844\n",
            "Epoch 74/100\n",
            "54/54 [==============================] - 0s 3ms/step - loss: 2.2655 - val_loss: 2.2841\n",
            "Epoch 75/100\n",
            "54/54 [==============================] - 0s 3ms/step - loss: 2.2650 - val_loss: 2.2838\n",
            "Epoch 76/100\n",
            "54/54 [==============================] - 0s 3ms/step - loss: 2.2645 - val_loss: 2.2835\n",
            "Epoch 77/100\n",
            "54/54 [==============================] - 0s 2ms/step - loss: 2.2639 - val_loss: 2.2832\n",
            "Epoch 78/100\n",
            "54/54 [==============================] - 0s 3ms/step - loss: 2.2634 - val_loss: 2.2829\n",
            "Epoch 79/100\n",
            "54/54 [==============================] - 0s 3ms/step - loss: 2.2629 - val_loss: 2.2826\n",
            "Epoch 80/100\n",
            "54/54 [==============================] - 0s 3ms/step - loss: 2.2624 - val_loss: 2.2823\n",
            "Epoch 81/100\n",
            "54/54 [==============================] - 0s 3ms/step - loss: 2.2619 - val_loss: 2.2820\n",
            "Epoch 82/100\n",
            "54/54 [==============================] - 0s 3ms/step - loss: 2.2614 - val_loss: 2.2817\n",
            "Epoch 83/100\n",
            "54/54 [==============================] - 0s 2ms/step - loss: 2.2609 - val_loss: 2.2813\n",
            "Epoch 84/100\n",
            "54/54 [==============================] - 0s 2ms/step - loss: 2.2603 - val_loss: 2.2810\n",
            "Epoch 85/100\n",
            "54/54 [==============================] - 0s 3ms/step - loss: 2.2598 - val_loss: 2.2807\n",
            "Epoch 86/100\n",
            "54/54 [==============================] - 0s 3ms/step - loss: 2.2592 - val_loss: 2.2804\n",
            "Epoch 87/100\n",
            "54/54 [==============================] - 0s 4ms/step - loss: 2.2587 - val_loss: 2.2800\n",
            "Epoch 88/100\n",
            "54/54 [==============================] - 0s 3ms/step - loss: 2.2582 - val_loss: 2.2797\n",
            "Epoch 89/100\n",
            "54/54 [==============================] - 0s 3ms/step - loss: 2.2576 - val_loss: 2.2794\n",
            "Epoch 90/100\n",
            "54/54 [==============================] - 0s 3ms/step - loss: 2.2571 - val_loss: 2.2791\n",
            "Epoch 91/100\n",
            "54/54 [==============================] - 0s 3ms/step - loss: 2.2565 - val_loss: 2.2787\n",
            "Epoch 92/100\n",
            "54/54 [==============================] - 0s 3ms/step - loss: 2.2560 - val_loss: 2.2784\n",
            "Epoch 93/100\n",
            "54/54 [==============================] - 0s 5ms/step - loss: 2.2554 - val_loss: 2.2781\n",
            "Epoch 94/100\n",
            "54/54 [==============================] - 0s 5ms/step - loss: 2.2549 - val_loss: 2.2778\n",
            "Epoch 95/100\n",
            "54/54 [==============================] - 0s 5ms/step - loss: 2.2543 - val_loss: 2.2774\n",
            "Epoch 96/100\n",
            "54/54 [==============================] - 0s 6ms/step - loss: 2.2538 - val_loss: 2.2771\n",
            "Epoch 97/100\n",
            "54/54 [==============================] - 0s 5ms/step - loss: 2.2532 - val_loss: 2.2768\n",
            "Epoch 98/100\n",
            "54/54 [==============================] - 0s 6ms/step - loss: 2.2527 - val_loss: 2.2764\n",
            "Epoch 99/100\n",
            "54/54 [==============================] - 0s 6ms/step - loss: 2.2521 - val_loss: 2.2761\n",
            "Epoch 100/100\n",
            "54/54 [==============================] - 0s 5ms/step - loss: 2.2516 - val_loss: 2.2758\n"
          ]
        }
      ]
    },
    {
      "cell_type": "code",
      "source": [
        "from sklearn.model_selection import RandomizedSearchCV\n",
        "\n",
        "param_distribs = {\n",
        "    \"n_hidden\": [0, 1, 2, 3],\n",
        "    \"n_neurons\": np.arange(1, 100),\n",
        "    \"learning_rate\": [0.001, 0.0001]  # reciprocal(3e-4, 3e-2),\n",
        "}\n",
        "rnd_search_cv = RandomizedSearchCV(keras_reg, param_distribs, n_iter=10, cv=3)\n",
        "rnd_search_cv.fit(\n",
        "    X_train_subsample,\n",
        "    Y_train_subsample,\n",
        "    epochs=10,\n",
        "    validation_data=(X_validation_subsample, Y_validation_subsample),\n",
        "    callbacks=[keras.callbacks.EarlyStopping(patience=3)])"
      ],
      "metadata": {
        "colab": {
          "base_uri": "https://localhost:8080/"
        },
        "id": "mZBi2va3ItxR",
        "outputId": "356eea57-73e2-4630-8e3e-45700c283026"
      },
      "execution_count": 259,
      "outputs": [
        {
          "output_type": "stream",
          "name": "stdout",
          "text": [
            "Epoch 1/10\n",
            "36/36 [==============================] - 2s 18ms/step - loss: 2.3032 - val_loss: 2.3014\n",
            "Epoch 2/10\n",
            "36/36 [==============================] - 0s 12ms/step - loss: 2.3031 - val_loss: 2.3013\n",
            "Epoch 3/10\n",
            "36/36 [==============================] - 0s 4ms/step - loss: 2.3030 - val_loss: 2.3013\n",
            "Epoch 4/10\n",
            "36/36 [==============================] - 0s 3ms/step - loss: 2.3029 - val_loss: 2.3013\n",
            "Epoch 5/10\n",
            "36/36 [==============================] - 0s 3ms/step - loss: 2.3028 - val_loss: 2.3013\n",
            "Epoch 6/10\n",
            "36/36 [==============================] - 0s 3ms/step - loss: 2.3026 - val_loss: 2.3013\n",
            "Epoch 7/10\n",
            "36/36 [==============================] - 0s 3ms/step - loss: 2.3025 - val_loss: 2.3012\n",
            "Epoch 8/10\n",
            "36/36 [==============================] - 0s 4ms/step - loss: 2.3024 - val_loss: 2.3012\n",
            "Epoch 9/10\n",
            "36/36 [==============================] - 0s 3ms/step - loss: 2.3023 - val_loss: 2.3012\n",
            "Epoch 10/10\n",
            "36/36 [==============================] - 0s 4ms/step - loss: 2.3022 - val_loss: 2.3012\n",
            "18/18 [==============================] - 0s 2ms/step - loss: 2.3030\n",
            "Epoch 1/10\n",
            "36/36 [==============================] - 1s 7ms/step - loss: 2.3036 - val_loss: 2.3042\n",
            "Epoch 2/10\n",
            "36/36 [==============================] - 0s 5ms/step - loss: 2.3035 - val_loss: 2.3042\n",
            "Epoch 3/10\n",
            "36/36 [==============================] - 0s 4ms/step - loss: 2.3034 - val_loss: 2.3042\n",
            "Epoch 4/10\n",
            "36/36 [==============================] - 0s 5ms/step - loss: 2.3034 - val_loss: 2.3041\n",
            "Epoch 5/10\n",
            "36/36 [==============================] - 0s 3ms/step - loss: 2.3033 - val_loss: 2.3041\n",
            "Epoch 6/10\n",
            "36/36 [==============================] - 0s 4ms/step - loss: 2.3032 - val_loss: 2.3041\n",
            "Epoch 7/10\n",
            "36/36 [==============================] - 0s 3ms/step - loss: 2.3032 - val_loss: 2.3041\n",
            "Epoch 8/10\n",
            "36/36 [==============================] - 0s 3ms/step - loss: 2.3031 - val_loss: 2.3040\n",
            "Epoch 9/10\n",
            "36/36 [==============================] - 0s 3ms/step - loss: 2.3030 - val_loss: 2.3040\n",
            "Epoch 10/10\n",
            "36/36 [==============================] - 0s 4ms/step - loss: 2.3030 - val_loss: 2.3040\n",
            "18/18 [==============================] - 0s 2ms/step - loss: 2.3015\n",
            "Epoch 1/10\n",
            "36/36 [==============================] - 1s 8ms/step - loss: 2.3027 - val_loss: 2.3022\n",
            "Epoch 2/10\n",
            "36/36 [==============================] - 0s 3ms/step - loss: 2.3026 - val_loss: 2.3022\n",
            "Epoch 3/10\n",
            "36/36 [==============================] - 0s 3ms/step - loss: 2.3025 - val_loss: 2.3021\n",
            "Epoch 4/10\n",
            "36/36 [==============================] - 0s 3ms/step - loss: 2.3024 - val_loss: 2.3021\n",
            "Epoch 5/10\n",
            "36/36 [==============================] - 0s 3ms/step - loss: 2.3022 - val_loss: 2.3021\n",
            "Epoch 6/10\n",
            "36/36 [==============================] - 0s 3ms/step - loss: 2.3021 - val_loss: 2.3020\n",
            "Epoch 7/10\n",
            "36/36 [==============================] - 0s 5ms/step - loss: 2.3020 - val_loss: 2.3020\n",
            "Epoch 8/10\n",
            "36/36 [==============================] - 0s 3ms/step - loss: 2.3019 - val_loss: 2.3020\n",
            "Epoch 9/10\n",
            "36/36 [==============================] - 0s 4ms/step - loss: 2.3018 - val_loss: 2.3019\n",
            "Epoch 10/10\n",
            "36/36 [==============================] - 0s 3ms/step - loss: 2.3016 - val_loss: 2.3019\n",
            "18/18 [==============================] - 0s 2ms/step - loss: 2.3037\n",
            "Epoch 1/10\n",
            "36/36 [==============================] - 1s 8ms/step - loss: 2.3042 - val_loss: 2.3054\n",
            "Epoch 2/10\n",
            "36/36 [==============================] - 0s 3ms/step - loss: 2.3041 - val_loss: 2.3054\n",
            "Epoch 3/10\n",
            "36/36 [==============================] - 0s 3ms/step - loss: 2.3039 - val_loss: 2.3053\n",
            "Epoch 4/10\n",
            "36/36 [==============================] - 0s 4ms/step - loss: 2.3038 - val_loss: 2.3052\n",
            "Epoch 5/10\n",
            "36/36 [==============================] - 0s 3ms/step - loss: 2.3037 - val_loss: 2.3051\n",
            "Epoch 6/10\n",
            "36/36 [==============================] - 0s 3ms/step - loss: 2.3035 - val_loss: 2.3051\n",
            "Epoch 7/10\n",
            "36/36 [==============================] - 0s 3ms/step - loss: 2.3034 - val_loss: 2.3050\n",
            "Epoch 8/10\n",
            "36/36 [==============================] - 0s 3ms/step - loss: 2.3033 - val_loss: 2.3049\n",
            "Epoch 9/10\n",
            "36/36 [==============================] - 0s 3ms/step - loss: 2.3032 - val_loss: 2.3049\n",
            "Epoch 10/10\n",
            "36/36 [==============================] - 0s 4ms/step - loss: 2.3031 - val_loss: 2.3048\n",
            "18/18 [==============================] - 0s 2ms/step - loss: 2.3030\n",
            "Epoch 1/10\n",
            "36/36 [==============================] - 1s 7ms/step - loss: 2.3028 - val_loss: 2.3070\n",
            "Epoch 2/10\n",
            "36/36 [==============================] - 0s 3ms/step - loss: 2.3027 - val_loss: 2.3070\n",
            "Epoch 3/10\n",
            "36/36 [==============================] - 0s 3ms/step - loss: 2.3026 - val_loss: 2.3069\n",
            "Epoch 4/10\n",
            "36/36 [==============================] - 0s 3ms/step - loss: 2.3026 - val_loss: 2.3069\n",
            "Epoch 5/10\n",
            "36/36 [==============================] - 0s 3ms/step - loss: 2.3025 - val_loss: 2.3068\n",
            "Epoch 6/10\n",
            "36/36 [==============================] - 0s 3ms/step - loss: 2.3024 - val_loss: 2.3068\n",
            "Epoch 7/10\n",
            "36/36 [==============================] - 0s 3ms/step - loss: 2.3024 - val_loss: 2.3068\n",
            "Epoch 8/10\n",
            "36/36 [==============================] - 0s 3ms/step - loss: 2.3023 - val_loss: 2.3068\n",
            "Epoch 9/10\n",
            "36/36 [==============================] - 0s 3ms/step - loss: 2.3022 - val_loss: 2.3067\n",
            "Epoch 10/10\n",
            "36/36 [==============================] - 0s 3ms/step - loss: 2.3021 - val_loss: 2.3067\n",
            "18/18 [==============================] - 0s 2ms/step - loss: 2.3036\n",
            "Epoch 1/10\n",
            "36/36 [==============================] - 1s 8ms/step - loss: 2.3025 - val_loss: 2.3027\n",
            "Epoch 2/10\n",
            "36/36 [==============================] - 0s 5ms/step - loss: 2.3024 - val_loss: 2.3027\n",
            "Epoch 3/10\n",
            "36/36 [==============================] - 0s 3ms/step - loss: 2.3023 - val_loss: 2.3027\n",
            "Epoch 4/10\n",
            "36/36 [==============================] - 0s 5ms/step - loss: 2.3021 - val_loss: 2.3026\n",
            "Epoch 5/10\n",
            "36/36 [==============================] - 0s 5ms/step - loss: 2.3020 - val_loss: 2.3026\n",
            "Epoch 6/10\n",
            "36/36 [==============================] - 0s 3ms/step - loss: 2.3019 - val_loss: 2.3026\n",
            "Epoch 7/10\n",
            "36/36 [==============================] - 0s 3ms/step - loss: 2.3018 - val_loss: 2.3026\n",
            "Epoch 8/10\n",
            "36/36 [==============================] - 0s 3ms/step - loss: 2.3017 - val_loss: 2.3025\n",
            "Epoch 9/10\n",
            "36/36 [==============================] - 0s 3ms/step - loss: 2.3016 - val_loss: 2.3025\n",
            "Epoch 10/10\n",
            "36/36 [==============================] - 0s 3ms/step - loss: 2.3015 - val_loss: 2.3025\n",
            "18/18 [==============================] - 0s 2ms/step - loss: 2.3031\n",
            "Epoch 1/10\n",
            "36/36 [==============================] - 0s 6ms/step - loss: 2.3102 - val_loss: 2.3049\n",
            "Epoch 2/10\n",
            "36/36 [==============================] - 0s 3ms/step - loss: 2.3100 - val_loss: 2.3048\n",
            "Epoch 3/10\n",
            "36/36 [==============================] - 0s 3ms/step - loss: 2.3097 - val_loss: 2.3046\n",
            "Epoch 4/10\n",
            "36/36 [==============================] - 0s 3ms/step - loss: 2.3094 - val_loss: 2.3045\n",
            "Epoch 5/10\n",
            "36/36 [==============================] - 0s 3ms/step - loss: 2.3092 - val_loss: 2.3044\n",
            "Epoch 6/10\n",
            "36/36 [==============================] - 0s 3ms/step - loss: 2.3089 - val_loss: 2.3042\n",
            "Epoch 7/10\n",
            "36/36 [==============================] - 0s 3ms/step - loss: 2.3087 - val_loss: 2.3041\n",
            "Epoch 8/10\n",
            "36/36 [==============================] - 0s 3ms/step - loss: 2.3084 - val_loss: 2.3039\n",
            "Epoch 9/10\n",
            "36/36 [==============================] - 0s 3ms/step - loss: 2.3082 - val_loss: 2.3038\n",
            "Epoch 10/10\n",
            "36/36 [==============================] - 0s 3ms/step - loss: 2.3079 - val_loss: 2.3037\n",
            "18/18 [==============================] - 0s 2ms/step - loss: 2.3110\n",
            "Epoch 1/10\n",
            "36/36 [==============================] - 0s 6ms/step - loss: 2.3065 - val_loss: 2.2996\n",
            "Epoch 2/10\n",
            "36/36 [==============================] - 0s 3ms/step - loss: 2.3062 - val_loss: 2.2994\n",
            "Epoch 3/10\n",
            "36/36 [==============================] - 0s 3ms/step - loss: 2.3059 - val_loss: 2.2993\n",
            "Epoch 4/10\n",
            "36/36 [==============================] - 0s 3ms/step - loss: 2.3056 - val_loss: 2.2992\n",
            "Epoch 5/10\n",
            "36/36 [==============================] - 0s 3ms/step - loss: 2.3054 - val_loss: 2.2990\n",
            "Epoch 6/10\n",
            "36/36 [==============================] - 0s 3ms/step - loss: 2.3051 - val_loss: 2.2989\n",
            "Epoch 7/10\n",
            "36/36 [==============================] - 0s 3ms/step - loss: 2.3048 - val_loss: 2.2988\n",
            "Epoch 8/10\n",
            "36/36 [==============================] - 0s 3ms/step - loss: 2.3045 - val_loss: 2.2986\n",
            "Epoch 9/10\n",
            "36/36 [==============================] - 0s 3ms/step - loss: 2.3043 - val_loss: 2.2985\n",
            "Epoch 10/10\n",
            "36/36 [==============================] - 0s 3ms/step - loss: 2.3040 - val_loss: 2.2984\n",
            "18/18 [==============================] - 0s 2ms/step - loss: 2.3068\n",
            "Epoch 1/10\n",
            "36/36 [==============================] - 0s 6ms/step - loss: 2.3059 - val_loss: 2.3056\n",
            "Epoch 2/10\n",
            "36/36 [==============================] - 0s 3ms/step - loss: 2.3056 - val_loss: 2.3055\n",
            "Epoch 3/10\n",
            "36/36 [==============================] - 0s 3ms/step - loss: 2.3053 - val_loss: 2.3053\n",
            "Epoch 4/10\n",
            "36/36 [==============================] - 0s 3ms/step - loss: 2.3050 - val_loss: 2.3052\n",
            "Epoch 5/10\n",
            "36/36 [==============================] - 0s 3ms/step - loss: 2.3047 - val_loss: 2.3050\n",
            "Epoch 6/10\n",
            "36/36 [==============================] - 0s 3ms/step - loss: 2.3044 - val_loss: 2.3049\n",
            "Epoch 7/10\n",
            "36/36 [==============================] - 0s 3ms/step - loss: 2.3041 - val_loss: 2.3048\n",
            "Epoch 8/10\n",
            "36/36 [==============================] - 0s 3ms/step - loss: 2.3039 - val_loss: 2.3046\n",
            "Epoch 9/10\n",
            "36/36 [==============================] - 0s 3ms/step - loss: 2.3036 - val_loss: 2.3045\n",
            "Epoch 10/10\n",
            "36/36 [==============================] - 0s 3ms/step - loss: 2.3033 - val_loss: 2.3043\n",
            "18/18 [==============================] - 0s 2ms/step - loss: 2.3064\n",
            "Epoch 1/10\n",
            "36/36 [==============================] - 1s 8ms/step - loss: 2.3014 - val_loss: 2.3036\n",
            "Epoch 2/10\n",
            "36/36 [==============================] - 0s 4ms/step - loss: 2.3013 - val_loss: 2.3036\n",
            "Epoch 3/10\n",
            "36/36 [==============================] - 0s 4ms/step - loss: 2.3013 - val_loss: 2.3035\n",
            "Epoch 4/10\n",
            "36/36 [==============================] - 0s 5ms/step - loss: 2.3012 - val_loss: 2.3035\n",
            "Epoch 5/10\n",
            "36/36 [==============================] - 0s 5ms/step - loss: 2.3011 - val_loss: 2.3035\n",
            "Epoch 6/10\n",
            "36/36 [==============================] - 0s 5ms/step - loss: 2.3010 - val_loss: 2.3035\n",
            "Epoch 7/10\n",
            "36/36 [==============================] - 0s 4ms/step - loss: 2.3009 - val_loss: 2.3034\n",
            "Epoch 8/10\n",
            "36/36 [==============================] - 0s 5ms/step - loss: 2.3008 - val_loss: 2.3034\n",
            "Epoch 9/10\n",
            "36/36 [==============================] - 0s 5ms/step - loss: 2.3007 - val_loss: 2.3034\n",
            "Epoch 10/10\n",
            "36/36 [==============================] - 0s 4ms/step - loss: 2.3006 - val_loss: 2.3033\n",
            "18/18 [==============================] - 0s 2ms/step - loss: 2.3037\n",
            "Epoch 1/10\n",
            "36/36 [==============================] - 1s 9ms/step - loss: 2.3025 - val_loss: 2.3025\n",
            "Epoch 2/10\n",
            "36/36 [==============================] - 0s 5ms/step - loss: 2.3024 - val_loss: 2.3024\n",
            "Epoch 3/10\n",
            "36/36 [==============================] - 0s 4ms/step - loss: 2.3023 - val_loss: 2.3024\n",
            "Epoch 4/10\n",
            "36/36 [==============================] - 0s 5ms/step - loss: 2.3021 - val_loss: 2.3023\n",
            "Epoch 5/10\n",
            "36/36 [==============================] - 0s 5ms/step - loss: 2.3020 - val_loss: 2.3023\n",
            "Epoch 6/10\n",
            "36/36 [==============================] - 0s 4ms/step - loss: 2.3019 - val_loss: 2.3022\n",
            "Epoch 7/10\n",
            "36/36 [==============================] - 0s 5ms/step - loss: 2.3018 - val_loss: 2.3022\n",
            "Epoch 8/10\n",
            "36/36 [==============================] - 0s 5ms/step - loss: 2.3017 - val_loss: 2.3022\n",
            "Epoch 9/10\n",
            "36/36 [==============================] - 0s 5ms/step - loss: 2.3016 - val_loss: 2.3021\n",
            "Epoch 10/10\n",
            "36/36 [==============================] - 0s 5ms/step - loss: 2.3014 - val_loss: 2.3021\n",
            "18/18 [==============================] - 0s 3ms/step - loss: 2.3025\n",
            "Epoch 1/10\n",
            "36/36 [==============================] - 1s 9ms/step - loss: 2.3068 - val_loss: 2.3005\n",
            "Epoch 2/10\n",
            "36/36 [==============================] - 0s 5ms/step - loss: 2.3067 - val_loss: 2.3004\n",
            "Epoch 3/10\n",
            "36/36 [==============================] - 0s 4ms/step - loss: 2.3065 - val_loss: 2.3004\n",
            "Epoch 4/10\n",
            "36/36 [==============================] - 0s 4ms/step - loss: 2.3063 - val_loss: 2.3004\n",
            "Epoch 5/10\n",
            "36/36 [==============================] - 0s 4ms/step - loss: 2.3061 - val_loss: 2.3003\n",
            "Epoch 6/10\n",
            "36/36 [==============================] - 0s 4ms/step - loss: 2.3059 - val_loss: 2.3003\n",
            "Epoch 7/10\n",
            "36/36 [==============================] - 0s 5ms/step - loss: 2.3058 - val_loss: 2.3002\n",
            "Epoch 8/10\n",
            "36/36 [==============================] - 0s 5ms/step - loss: 2.3056 - val_loss: 2.3002\n",
            "Epoch 9/10\n",
            "36/36 [==============================] - 0s 4ms/step - loss: 2.3054 - val_loss: 2.3001\n",
            "Epoch 10/10\n",
            "36/36 [==============================] - 0s 4ms/step - loss: 2.3053 - val_loss: 2.3001\n",
            "18/18 [==============================] - 0s 2ms/step - loss: 2.3055\n",
            "Epoch 1/10\n",
            "36/36 [==============================] - 0s 6ms/step - loss: 2.3082 - val_loss: 2.3086\n",
            "Epoch 2/10\n",
            "36/36 [==============================] - 0s 5ms/step - loss: 2.3082 - val_loss: 2.3086\n",
            "Epoch 3/10\n",
            "36/36 [==============================] - 0s 5ms/step - loss: 2.3082 - val_loss: 2.3086\n",
            "Epoch 4/10\n",
            "36/36 [==============================] - 0s 4ms/step - loss: 2.3082 - val_loss: 2.3086\n",
            "Epoch 5/10\n",
            "36/36 [==============================] - 0s 6ms/step - loss: 2.3081 - val_loss: 2.3086\n",
            "Epoch 6/10\n",
            "36/36 [==============================] - 0s 3ms/step - loss: 2.3081 - val_loss: 2.3086\n",
            "Epoch 7/10\n",
            "36/36 [==============================] - 0s 3ms/step - loss: 2.3081 - val_loss: 2.3085\n",
            "Epoch 8/10\n",
            "36/36 [==============================] - 0s 3ms/step - loss: 2.3080 - val_loss: 2.3085\n",
            "Epoch 9/10\n",
            "36/36 [==============================] - 0s 3ms/step - loss: 2.3080 - val_loss: 2.3085\n",
            "Epoch 10/10\n",
            "36/36 [==============================] - 0s 3ms/step - loss: 2.3080 - val_loss: 2.3085\n",
            "18/18 [==============================] - 0s 2ms/step - loss: 2.3004\n",
            "Epoch 1/10\n",
            "36/36 [==============================] - 0s 6ms/step - loss: 2.3101 - val_loss: 2.3070\n",
            "Epoch 2/10\n",
            "36/36 [==============================] - 0s 3ms/step - loss: 2.3100 - val_loss: 2.3070\n",
            "Epoch 3/10\n",
            "36/36 [==============================] - 0s 3ms/step - loss: 2.3100 - val_loss: 2.3070\n",
            "Epoch 4/10\n",
            "36/36 [==============================] - 0s 3ms/step - loss: 2.3100 - val_loss: 2.3070\n",
            "Epoch 5/10\n",
            "36/36 [==============================] - 0s 3ms/step - loss: 2.3100 - val_loss: 2.3070\n",
            "Epoch 6/10\n",
            "36/36 [==============================] - 0s 3ms/step - loss: 2.3099 - val_loss: 2.3070\n",
            "Epoch 7/10\n",
            "36/36 [==============================] - 0s 3ms/step - loss: 2.3099 - val_loss: 2.3070\n",
            "Epoch 8/10\n",
            "36/36 [==============================] - 0s 3ms/step - loss: 2.3099 - val_loss: 2.3069\n",
            "Epoch 9/10\n",
            "36/36 [==============================] - 0s 3ms/step - loss: 2.3098 - val_loss: 2.3069\n",
            "Epoch 10/10\n",
            "36/36 [==============================] - 0s 3ms/step - loss: 2.3098 - val_loss: 2.3069\n",
            "18/18 [==============================] - 0s 2ms/step - loss: 2.3075\n",
            "Epoch 1/10\n",
            "36/36 [==============================] - 0s 6ms/step - loss: 2.3067 - val_loss: 2.3066\n",
            "Epoch 2/10\n",
            "36/36 [==============================] - 0s 4ms/step - loss: 2.3066 - val_loss: 2.3066\n",
            "Epoch 3/10\n",
            "36/36 [==============================] - 0s 3ms/step - loss: 2.3066 - val_loss: 2.3065\n",
            "Epoch 4/10\n",
            "36/36 [==============================] - 0s 3ms/step - loss: 2.3066 - val_loss: 2.3065\n",
            "Epoch 5/10\n",
            "36/36 [==============================] - 0s 3ms/step - loss: 2.3065 - val_loss: 2.3065\n",
            "Epoch 6/10\n",
            "36/36 [==============================] - 0s 4ms/step - loss: 2.3065 - val_loss: 2.3065\n",
            "Epoch 7/10\n",
            "36/36 [==============================] - 0s 3ms/step - loss: 2.3065 - val_loss: 2.3065\n",
            "Epoch 8/10\n",
            "36/36 [==============================] - 0s 3ms/step - loss: 2.3064 - val_loss: 2.3065\n",
            "Epoch 9/10\n",
            "36/36 [==============================] - 0s 3ms/step - loss: 2.3064 - val_loss: 2.3064\n",
            "Epoch 10/10\n",
            "36/36 [==============================] - 0s 3ms/step - loss: 2.3064 - val_loss: 2.3064\n",
            "18/18 [==============================] - 0s 2ms/step - loss: 2.3091\n",
            "Epoch 1/10\n",
            "36/36 [==============================] - 1s 20ms/step - loss: 2.3014 - val_loss: 2.3143\n",
            "Epoch 2/10\n",
            "36/36 [==============================] - 0s 4ms/step - loss: 2.3014 - val_loss: 2.3143\n",
            "Epoch 3/10\n",
            "36/36 [==============================] - 0s 3ms/step - loss: 2.3014 - val_loss: 2.3143\n",
            "Epoch 4/10\n",
            "36/36 [==============================] - 0s 3ms/step - loss: 2.3013 - val_loss: 2.3143\n",
            "Epoch 5/10\n",
            "36/36 [==============================] - 0s 3ms/step - loss: 2.3013 - val_loss: 2.3143\n",
            "Epoch 6/10\n",
            "36/36 [==============================] - 0s 3ms/step - loss: 2.3013 - val_loss: 2.3143\n",
            "Epoch 7/10\n",
            "36/36 [==============================] - 0s 3ms/step - loss: 2.3013 - val_loss: 2.3143\n",
            "Epoch 8/10\n",
            "36/36 [==============================] - 0s 3ms/step - loss: 2.3012 - val_loss: 2.3142\n",
            "Epoch 9/10\n",
            "36/36 [==============================] - 0s 4ms/step - loss: 2.3012 - val_loss: 2.3142\n",
            "Epoch 10/10\n",
            "36/36 [==============================] - 0s 3ms/step - loss: 2.3012 - val_loss: 2.3142\n",
            "18/18 [==============================] - 0s 2ms/step - loss: 2.2986\n",
            "Epoch 1/10\n",
            "36/36 [==============================] - 0s 6ms/step - loss: 2.3129 - val_loss: 2.3129\n",
            "Epoch 2/10\n",
            "36/36 [==============================] - 0s 3ms/step - loss: 2.3129 - val_loss: 2.3129\n",
            "Epoch 3/10\n",
            "36/36 [==============================] - 0s 3ms/step - loss: 2.3129 - val_loss: 2.3129\n",
            "Epoch 4/10\n",
            "36/36 [==============================] - 0s 3ms/step - loss: 2.3129 - val_loss: 2.3129\n",
            "Epoch 5/10\n",
            "36/36 [==============================] - 0s 4ms/step - loss: 2.3128 - val_loss: 2.3129\n",
            "Epoch 6/10\n",
            "36/36 [==============================] - 0s 3ms/step - loss: 2.3128 - val_loss: 2.3129\n",
            "Epoch 7/10\n",
            "36/36 [==============================] - 0s 3ms/step - loss: 2.3128 - val_loss: 2.3129\n",
            "Epoch 8/10\n",
            "36/36 [==============================] - 0s 3ms/step - loss: 2.3127 - val_loss: 2.3128\n",
            "Epoch 9/10\n",
            "36/36 [==============================] - 0s 4ms/step - loss: 2.3127 - val_loss: 2.3128\n",
            "Epoch 10/10\n",
            "36/36 [==============================] - 0s 3ms/step - loss: 2.3127 - val_loss: 2.3128\n",
            "18/18 [==============================] - 0s 2ms/step - loss: 2.3095\n",
            "Epoch 1/10\n",
            "36/36 [==============================] - 0s 6ms/step - loss: 2.3096 - val_loss: 2.3117\n",
            "Epoch 2/10\n",
            "36/36 [==============================] - 0s 3ms/step - loss: 2.3096 - val_loss: 2.3117\n",
            "Epoch 3/10\n",
            "36/36 [==============================] - 0s 3ms/step - loss: 2.3095 - val_loss: 2.3116\n",
            "Epoch 4/10\n",
            "36/36 [==============================] - 0s 3ms/step - loss: 2.3095 - val_loss: 2.3116\n",
            "Epoch 5/10\n",
            "36/36 [==============================] - 0s 3ms/step - loss: 2.3095 - val_loss: 2.3116\n",
            "Epoch 6/10\n",
            "36/36 [==============================] - 0s 3ms/step - loss: 2.3095 - val_loss: 2.3116\n",
            "Epoch 7/10\n",
            "36/36 [==============================] - 0s 3ms/step - loss: 2.3094 - val_loss: 2.3116\n",
            "Epoch 8/10\n",
            "36/36 [==============================] - 0s 3ms/step - loss: 2.3094 - val_loss: 2.3116\n",
            "Epoch 9/10\n",
            "36/36 [==============================] - 0s 3ms/step - loss: 2.3094 - val_loss: 2.3116\n",
            "Epoch 10/10\n",
            "36/36 [==============================] - 0s 3ms/step - loss: 2.3093 - val_loss: 2.3115\n",
            "18/18 [==============================] - 0s 2ms/step - loss: 2.3100\n",
            "Epoch 1/10\n",
            "36/36 [==============================] - 1s 14ms/step - loss: 2.3031 - val_loss: 2.3066\n",
            "Epoch 2/10\n",
            "36/36 [==============================] - 0s 10ms/step - loss: 2.3031 - val_loss: 2.3065\n",
            "Epoch 3/10\n",
            "36/36 [==============================] - 1s 14ms/step - loss: 2.3031 - val_loss: 2.3065\n",
            "Epoch 4/10\n",
            "36/36 [==============================] - 0s 9ms/step - loss: 2.3030 - val_loss: 2.3065\n",
            "Epoch 5/10\n",
            "36/36 [==============================] - 0s 4ms/step - loss: 2.3030 - val_loss: 2.3065\n",
            "Epoch 6/10\n",
            "36/36 [==============================] - 0s 5ms/step - loss: 2.3030 - val_loss: 2.3065\n",
            "Epoch 7/10\n",
            "36/36 [==============================] - 0s 4ms/step - loss: 2.3030 - val_loss: 2.3065\n",
            "Epoch 8/10\n",
            "36/36 [==============================] - 0s 4ms/step - loss: 2.3030 - val_loss: 2.3065\n",
            "Epoch 9/10\n",
            "36/36 [==============================] - 0s 4ms/step - loss: 2.3030 - val_loss: 2.3065\n",
            "Epoch 10/10\n",
            "36/36 [==============================] - 0s 7ms/step - loss: 2.3030 - val_loss: 2.3065\n",
            "18/18 [==============================] - 0s 4ms/step - loss: 2.3054\n",
            "Epoch 1/10\n",
            "36/36 [==============================] - 1s 9ms/step - loss: 2.3036 - val_loss: 2.3048\n",
            "Epoch 2/10\n",
            "36/36 [==============================] - 0s 3ms/step - loss: 2.3036 - val_loss: 2.3048\n",
            "Epoch 3/10\n",
            "36/36 [==============================] - 0s 6ms/step - loss: 2.3036 - val_loss: 2.3048\n",
            "Epoch 4/10\n",
            "36/36 [==============================] - 0s 6ms/step - loss: 2.3036 - val_loss: 2.3048\n",
            "Epoch 5/10\n",
            "36/36 [==============================] - 0s 6ms/step - loss: 2.3036 - val_loss: 2.3048\n",
            "Epoch 6/10\n",
            "36/36 [==============================] - 0s 7ms/step - loss: 2.3036 - val_loss: 2.3048\n",
            "Epoch 7/10\n",
            "36/36 [==============================] - 0s 7ms/step - loss: 2.3035 - val_loss: 2.3048\n",
            "Epoch 8/10\n",
            "36/36 [==============================] - 0s 9ms/step - loss: 2.3035 - val_loss: 2.3048\n",
            "Epoch 9/10\n",
            "36/36 [==============================] - 0s 5ms/step - loss: 2.3035 - val_loss: 2.3048\n",
            "Epoch 10/10\n",
            "36/36 [==============================] - 0s 4ms/step - loss: 2.3035 - val_loss: 2.3048\n",
            "18/18 [==============================] - 0s 2ms/step - loss: 2.3052\n",
            "Epoch 1/10\n",
            "36/36 [==============================] - 1s 7ms/step - loss: 2.3031 - val_loss: 2.3033\n",
            "Epoch 2/10\n",
            "36/36 [==============================] - 0s 4ms/step - loss: 2.3031 - val_loss: 2.3033\n",
            "Epoch 3/10\n",
            "36/36 [==============================] - 0s 3ms/step - loss: 2.3031 - val_loss: 2.3033\n",
            "Epoch 4/10\n",
            "36/36 [==============================] - 0s 7ms/step - loss: 2.3031 - val_loss: 2.3033\n",
            "Epoch 5/10\n",
            "36/36 [==============================] - 0s 6ms/step - loss: 2.3030 - val_loss: 2.3033\n",
            "Epoch 6/10\n",
            "36/36 [==============================] - 0s 5ms/step - loss: 2.3030 - val_loss: 2.3033\n",
            "Epoch 7/10\n",
            "36/36 [==============================] - 0s 5ms/step - loss: 2.3030 - val_loss: 2.3033\n",
            "Epoch 8/10\n",
            "36/36 [==============================] - 0s 6ms/step - loss: 2.3030 - val_loss: 2.3033\n",
            "Epoch 9/10\n",
            "36/36 [==============================] - 0s 5ms/step - loss: 2.3030 - val_loss: 2.3033\n",
            "Epoch 10/10\n",
            "36/36 [==============================] - 0s 4ms/step - loss: 2.3030 - val_loss: 2.3033\n",
            "18/18 [==============================] - 0s 5ms/step - loss: 2.3024\n",
            "Epoch 1/10\n",
            "36/36 [==============================] - 1s 13ms/step - loss: 2.3045 - val_loss: 2.3066\n",
            "Epoch 2/10\n",
            "36/36 [==============================] - 0s 5ms/step - loss: 2.3045 - val_loss: 2.3066\n",
            "Epoch 3/10\n",
            "36/36 [==============================] - 0s 4ms/step - loss: 2.3045 - val_loss: 2.3066\n",
            "Epoch 4/10\n",
            "36/36 [==============================] - 0s 5ms/step - loss: 2.3045 - val_loss: 2.3066\n",
            "Epoch 5/10\n",
            "36/36 [==============================] - 0s 5ms/step - loss: 2.3045 - val_loss: 2.3066\n",
            "Epoch 6/10\n",
            "36/36 [==============================] - 0s 4ms/step - loss: 2.3045 - val_loss: 2.3066\n",
            "Epoch 7/10\n",
            "36/36 [==============================] - 0s 4ms/step - loss: 2.3045 - val_loss: 2.3066\n",
            "Epoch 8/10\n",
            "36/36 [==============================] - 0s 4ms/step - loss: 2.3045 - val_loss: 2.3066\n",
            "Epoch 9/10\n",
            "36/36 [==============================] - 0s 5ms/step - loss: 2.3045 - val_loss: 2.3066\n",
            "Epoch 10/10\n",
            "36/36 [==============================] - 0s 4ms/step - loss: 2.3044 - val_loss: 2.3066\n",
            "18/18 [==============================] - 0s 2ms/step - loss: 2.3099\n",
            "Epoch 1/10\n",
            "36/36 [==============================] - 1s 7ms/step - loss: 2.3047 - val_loss: 2.3057\n",
            "Epoch 2/10\n",
            "36/36 [==============================] - 0s 4ms/step - loss: 2.3047 - val_loss: 2.3057\n",
            "Epoch 3/10\n",
            "36/36 [==============================] - 0s 4ms/step - loss: 2.3047 - val_loss: 2.3057\n",
            "Epoch 4/10\n",
            "36/36 [==============================] - 0s 5ms/step - loss: 2.3046 - val_loss: 2.3057\n",
            "Epoch 5/10\n",
            "36/36 [==============================] - 0s 4ms/step - loss: 2.3046 - val_loss: 2.3057\n",
            "Epoch 6/10\n",
            "36/36 [==============================] - 0s 5ms/step - loss: 2.3046 - val_loss: 2.3057\n",
            "Epoch 7/10\n",
            "36/36 [==============================] - 0s 4ms/step - loss: 2.3046 - val_loss: 2.3057\n",
            "Epoch 8/10\n",
            "36/36 [==============================] - 0s 5ms/step - loss: 2.3046 - val_loss: 2.3057\n",
            "Epoch 9/10\n",
            "36/36 [==============================] - 0s 5ms/step - loss: 2.3046 - val_loss: 2.3057\n",
            "Epoch 10/10\n",
            "36/36 [==============================] - 0s 4ms/step - loss: 2.3046 - val_loss: 2.3057\n",
            "18/18 [==============================] - 0s 2ms/step - loss: 2.3049\n",
            "Epoch 1/10\n",
            "36/36 [==============================] - 1s 7ms/step - loss: 2.3056 - val_loss: 2.3050\n",
            "Epoch 2/10\n",
            "36/36 [==============================] - 0s 4ms/step - loss: 2.3055 - val_loss: 2.3050\n",
            "Epoch 3/10\n",
            "36/36 [==============================] - 0s 5ms/step - loss: 2.3055 - val_loss: 2.3050\n",
            "Epoch 4/10\n",
            "36/36 [==============================] - 0s 4ms/step - loss: 2.3055 - val_loss: 2.3050\n",
            "Epoch 5/10\n",
            "36/36 [==============================] - 0s 4ms/step - loss: 2.3055 - val_loss: 2.3050\n",
            "Epoch 6/10\n",
            "36/36 [==============================] - 0s 5ms/step - loss: 2.3055 - val_loss: 2.3050\n",
            "Epoch 7/10\n",
            "36/36 [==============================] - 0s 5ms/step - loss: 2.3055 - val_loss: 2.3050\n",
            "Epoch 8/10\n",
            "36/36 [==============================] - 0s 5ms/step - loss: 2.3055 - val_loss: 2.3049\n",
            "Epoch 9/10\n",
            "36/36 [==============================] - 0s 4ms/step - loss: 2.3054 - val_loss: 2.3049\n",
            "Epoch 10/10\n",
            "36/36 [==============================] - 0s 5ms/step - loss: 2.3054 - val_loss: 2.3049\n",
            "18/18 [==============================] - 0s 2ms/step - loss: 2.3071\n",
            "Epoch 1/10\n",
            "36/36 [==============================] - 1s 8ms/step - loss: 2.3035 - val_loss: 2.3038\n",
            "Epoch 2/10\n",
            "36/36 [==============================] - 0s 5ms/step - loss: 2.3035 - val_loss: 2.3038\n",
            "Epoch 3/10\n",
            "36/36 [==============================] - 0s 4ms/step - loss: 2.3034 - val_loss: 2.3038\n",
            "Epoch 4/10\n",
            "36/36 [==============================] - 0s 3ms/step - loss: 2.3034 - val_loss: 2.3037\n",
            "Epoch 5/10\n",
            "36/36 [==============================] - 0s 3ms/step - loss: 2.3034 - val_loss: 2.3037\n",
            "Epoch 6/10\n",
            "36/36 [==============================] - 0s 4ms/step - loss: 2.3033 - val_loss: 2.3037\n",
            "Epoch 7/10\n",
            "36/36 [==============================] - 0s 5ms/step - loss: 2.3033 - val_loss: 2.3037\n",
            "Epoch 8/10\n",
            "36/36 [==============================] - 0s 3ms/step - loss: 2.3033 - val_loss: 2.3037\n",
            "Epoch 9/10\n",
            "36/36 [==============================] - 0s 4ms/step - loss: 2.3033 - val_loss: 2.3037\n",
            "Epoch 10/10\n",
            "36/36 [==============================] - 0s 4ms/step - loss: 2.3032 - val_loss: 2.3036\n",
            "18/18 [==============================] - 0s 2ms/step - loss: 2.3063\n",
            "Epoch 1/10\n",
            "36/36 [==============================] - 0s 7ms/step - loss: 2.3081 - val_loss: 2.3033\n",
            "Epoch 2/10\n",
            "36/36 [==============================] - 0s 3ms/step - loss: 2.3081 - val_loss: 2.3033\n",
            "Epoch 3/10\n",
            "36/36 [==============================] - 0s 4ms/step - loss: 2.3081 - val_loss: 2.3033\n",
            "Epoch 4/10\n",
            "36/36 [==============================] - 0s 3ms/step - loss: 2.3080 - val_loss: 2.3033\n",
            "Epoch 5/10\n",
            "36/36 [==============================] - 0s 3ms/step - loss: 2.3080 - val_loss: 2.3032\n",
            "Epoch 6/10\n",
            "36/36 [==============================] - 0s 3ms/step - loss: 2.3080 - val_loss: 2.3032\n",
            "Epoch 7/10\n",
            "36/36 [==============================] - 0s 4ms/step - loss: 2.3079 - val_loss: 2.3032\n",
            "Epoch 8/10\n",
            "36/36 [==============================] - 0s 4ms/step - loss: 2.3079 - val_loss: 2.3032\n",
            "Epoch 9/10\n",
            "36/36 [==============================] - 0s 3ms/step - loss: 2.3079 - val_loss: 2.3032\n",
            "Epoch 10/10\n",
            "36/36 [==============================] - 0s 3ms/step - loss: 2.3079 - val_loss: 2.3032\n",
            "18/18 [==============================] - 0s 2ms/step - loss: 2.2958\n",
            "Epoch 1/10\n",
            "36/36 [==============================] - 0s 7ms/step - loss: 2.3011 - val_loss: 2.3033\n",
            "Epoch 2/10\n",
            "36/36 [==============================] - 0s 4ms/step - loss: 2.3011 - val_loss: 2.3033\n",
            "Epoch 3/10\n",
            "36/36 [==============================] - 0s 5ms/step - loss: 2.3010 - val_loss: 2.3033\n",
            "Epoch 4/10\n",
            "36/36 [==============================] - 0s 3ms/step - loss: 2.3010 - val_loss: 2.3033\n",
            "Epoch 5/10\n",
            "36/36 [==============================] - 0s 3ms/step - loss: 2.3010 - val_loss: 2.3033\n",
            "Epoch 6/10\n",
            "36/36 [==============================] - 0s 5ms/step - loss: 2.3010 - val_loss: 2.3033\n",
            "Epoch 7/10\n",
            "36/36 [==============================] - 0s 3ms/step - loss: 2.3009 - val_loss: 2.3033\n",
            "Epoch 8/10\n",
            "36/36 [==============================] - 0s 3ms/step - loss: 2.3009 - val_loss: 2.3033\n",
            "Epoch 9/10\n",
            "36/36 [==============================] - 0s 4ms/step - loss: 2.3009 - val_loss: 2.3033\n",
            "Epoch 10/10\n",
            "36/36 [==============================] - 0s 3ms/step - loss: 2.3009 - val_loss: 2.3032\n",
            "18/18 [==============================] - 0s 2ms/step - loss: 2.3020\n",
            "Epoch 1/10\n",
            "36/36 [==============================] - 0s 6ms/step - loss: 2.3080 - val_loss: 2.3051\n",
            "Epoch 2/10\n",
            "36/36 [==============================] - 0s 5ms/step - loss: 2.3077 - val_loss: 2.3050\n",
            "Epoch 3/10\n",
            "36/36 [==============================] - 0s 4ms/step - loss: 2.3075 - val_loss: 2.3049\n",
            "Epoch 4/10\n",
            "36/36 [==============================] - 0s 3ms/step - loss: 2.3073 - val_loss: 2.3048\n",
            "Epoch 5/10\n",
            "36/36 [==============================] - 0s 4ms/step - loss: 2.3071 - val_loss: 2.3047\n",
            "Epoch 6/10\n",
            "36/36 [==============================] - 0s 3ms/step - loss: 2.3068 - val_loss: 2.3046\n",
            "Epoch 7/10\n",
            "36/36 [==============================] - 0s 3ms/step - loss: 2.3066 - val_loss: 2.3045\n",
            "Epoch 8/10\n",
            "36/36 [==============================] - 0s 3ms/step - loss: 2.3064 - val_loss: 2.3044\n",
            "Epoch 9/10\n",
            "36/36 [==============================] - 0s 3ms/step - loss: 2.3062 - val_loss: 2.3043\n",
            "Epoch 10/10\n",
            "36/36 [==============================] - 0s 3ms/step - loss: 2.3060 - val_loss: 2.3042\n",
            "18/18 [==============================] - 0s 2ms/step - loss: 2.3055\n",
            "Epoch 1/10\n",
            "36/36 [==============================] - 1s 7ms/step - loss: 2.3013 - val_loss: 2.3102\n",
            "Epoch 2/10\n",
            "36/36 [==============================] - 0s 5ms/step - loss: 2.3011 - val_loss: 2.3101\n",
            "Epoch 3/10\n",
            "36/36 [==============================] - 0s 4ms/step - loss: 2.3009 - val_loss: 2.3101\n",
            "Epoch 4/10\n",
            "36/36 [==============================] - 0s 3ms/step - loss: 2.3007 - val_loss: 2.3100\n",
            "Epoch 5/10\n",
            "36/36 [==============================] - 0s 4ms/step - loss: 2.3004 - val_loss: 2.3099\n",
            "Epoch 6/10\n",
            "36/36 [==============================] - 0s 3ms/step - loss: 2.3002 - val_loss: 2.3098\n",
            "Epoch 7/10\n",
            "36/36 [==============================] - 0s 4ms/step - loss: 2.3000 - val_loss: 2.3097\n",
            "Epoch 8/10\n",
            "36/36 [==============================] - 0s 3ms/step - loss: 2.2998 - val_loss: 2.3096\n",
            "Epoch 9/10\n",
            "36/36 [==============================] - 0s 4ms/step - loss: 2.2996 - val_loss: 2.3095\n",
            "Epoch 10/10\n",
            "36/36 [==============================] - 0s 4ms/step - loss: 2.2994 - val_loss: 2.3094\n",
            "18/18 [==============================] - 0s 2ms/step - loss: 2.3036\n",
            "Epoch 1/10\n",
            "36/36 [==============================] - 1s 6ms/step - loss: 2.3019 - val_loss: 2.3061\n",
            "Epoch 2/10\n",
            "36/36 [==============================] - 0s 3ms/step - loss: 2.3017 - val_loss: 2.3060\n",
            "Epoch 3/10\n",
            "36/36 [==============================] - 0s 4ms/step - loss: 2.3015 - val_loss: 2.3060\n",
            "Epoch 4/10\n",
            "36/36 [==============================] - 0s 4ms/step - loss: 2.3012 - val_loss: 2.3059\n",
            "Epoch 5/10\n",
            "36/36 [==============================] - 0s 4ms/step - loss: 2.3010 - val_loss: 2.3058\n",
            "Epoch 6/10\n",
            "36/36 [==============================] - 0s 3ms/step - loss: 2.3007 - val_loss: 2.3057\n",
            "Epoch 7/10\n",
            "36/36 [==============================] - 0s 3ms/step - loss: 2.3005 - val_loss: 2.3057\n",
            "Epoch 8/10\n",
            "36/36 [==============================] - 0s 4ms/step - loss: 2.3002 - val_loss: 2.3056\n",
            "Epoch 9/10\n",
            "36/36 [==============================] - 0s 4ms/step - loss: 2.3000 - val_loss: 2.3055\n",
            "Epoch 10/10\n",
            "36/36 [==============================] - 0s 4ms/step - loss: 2.2997 - val_loss: 2.3055\n",
            "18/18 [==============================] - 0s 2ms/step - loss: 2.2995\n",
            "Epoch 1/10\n",
            "54/54 [==============================] - 1s 6ms/step - loss: 2.3107 - val_loss: 2.3059\n",
            "Epoch 2/10\n",
            "54/54 [==============================] - 0s 3ms/step - loss: 2.3107 - val_loss: 2.3059\n",
            "Epoch 3/10\n",
            "54/54 [==============================] - 0s 3ms/step - loss: 2.3107 - val_loss: 2.3059\n",
            "Epoch 4/10\n",
            "54/54 [==============================] - 0s 4ms/step - loss: 2.3106 - val_loss: 2.3058\n",
            "Epoch 5/10\n",
            "54/54 [==============================] - 0s 3ms/step - loss: 2.3106 - val_loss: 2.3058\n",
            "Epoch 6/10\n",
            "54/54 [==============================] - 0s 3ms/step - loss: 2.3106 - val_loss: 2.3058\n",
            "Epoch 7/10\n",
            "54/54 [==============================] - 0s 4ms/step - loss: 2.3105 - val_loss: 2.3058\n",
            "Epoch 8/10\n",
            "54/54 [==============================] - 0s 3ms/step - loss: 2.3105 - val_loss: 2.3058\n",
            "Epoch 9/10\n",
            "54/54 [==============================] - 0s 3ms/step - loss: 2.3105 - val_loss: 2.3058\n",
            "Epoch 10/10\n",
            "54/54 [==============================] - 0s 3ms/step - loss: 2.3105 - val_loss: 2.3057\n"
          ]
        },
        {
          "output_type": "execute_result",
          "data": {
            "text/plain": [
              "RandomizedSearchCV(cv=3,\n",
              "                   estimator=<keras.wrappers.scikit_learn.KerasRegressor object at 0x7f39b7009250>,\n",
              "                   param_distributions={'learning_rate': [0.001, 0.0001],\n",
              "                                        'n_hidden': [0, 1, 2, 3],\n",
              "                                        'n_neurons': array([ 1,  2,  3,  4,  5,  6,  7,  8,  9, 10, 11, 12, 13, 14, 15, 16, 17,\n",
              "       18, 19, 20, 21, 22, 23, 24, 25, 26, 27, 28, 29, 30, 31, 32, 33, 34,\n",
              "       35, 36, 37, 38, 39, 40, 41, 42, 43, 44, 45, 46, 47, 48, 49, 50, 51,\n",
              "       52, 53, 54, 55, 56, 57, 58, 59, 60, 61, 62, 63, 64, 65, 66, 67, 68,\n",
              "       69, 70, 71, 72, 73, 74, 75, 76, 77, 78, 79, 80, 81, 82, 83, 84, 85,\n",
              "       86, 87, 88, 89, 90, 91, 92, 93, 94, 95, 96, 97, 98, 99])})"
            ]
          },
          "metadata": {},
          "execution_count": 259
        }
      ]
    },
    {
      "cell_type": "code",
      "source": [
        "rnd_search_cv.best_params_"
      ],
      "metadata": {
        "colab": {
          "base_uri": "https://localhost:8080/"
        },
        "id": "UddGc4IvJjaC",
        "outputId": "6274c0f1-3046-41e5-fcc5-fb5dc0034e38"
      },
      "execution_count": 261,
      "outputs": [
        {
          "output_type": "execute_result",
          "data": {
            "text/plain": [
              "{'n_neurons': 57, 'n_hidden': 1, 'learning_rate': 0.0001}"
            ]
          },
          "metadata": {},
          "execution_count": 261
        }
      ]
    }
  ]
}